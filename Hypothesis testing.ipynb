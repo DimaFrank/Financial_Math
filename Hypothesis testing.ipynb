{
 "cells": [
  {
   "cell_type": "code",
   "execution_count": 1,
   "metadata": {
    "id": "EHjY04Eshojr"
   },
   "outputs": [],
   "source": [
    "import numpy as np\n",
    "import scipy.stats as st\n",
    "import statistics\n",
    "import math "
   ]
  },
  {
   "cell_type": "code",
   "execution_count": 30,
   "metadata": {
    "id": "gkOeQumSlLtQ"
   },
   "outputs": [],
   "source": [
    "def proportion_Hypo_testing(p0, p1, alpha, n):\n",
    "    confidence = 1 - alpha\n",
    "    z_score = round(st.norm.ppf(confidence),3)\n",
    "    interval = math.sqrt((p1*(1-p1) /n)) * z_score  \n",
    "    up_border = round((p1 + interval),4)\n",
    "    low_border = round((p1- interval),4)\n",
    "\n",
    "    if p0 > low_border and p0 < up_border:\n",
    "       return 'The null hypothesis is NOT rejected.\\nSignificance level: {}'.format(alpha)\n",
    "    else:\n",
    "        return 'The null hypothesis is rejected.\\nSignificance level: {}'.format(alpha)   "
   ]
  },
  {
   "cell_type": "markdown",
   "metadata": {
    "id": "HnetLCEkftr9"
   },
   "source": [
    "**<i> שאלה 1 </i>**   \n",
    "**<i>(א) </i>** \n",
    "\n"
   ]
  },
  {
   "cell_type": "code",
   "execution_count": 29,
   "metadata": {
    "colab": {
     "base_uri": "https://localhost:8080/"
    },
    "id": "_afKIVOrhU5C",
    "outputId": "bf188104-0646-465a-9a47-3e1616000cf7"
   },
   "outputs": [
    {
     "name": "stdout",
     "output_type": "stream",
     "text": [
      "The null hypothesis is NOT rejected.\n",
      "Significance level: 0.1\n"
     ]
    }
   ],
   "source": [
    "print(proportion_Hypo_testing(0.35, 0.27, 0.1, 45))"
   ]
  },
  {
   "cell_type": "markdown",
   "metadata": {
    "id": "mD8HfsdmlYh2"
   },
   "source": [
    "**<i> שאלה 1 </i>**   \n",
    "**<i>(ב) </i>**"
   ]
  },
  {
   "cell_type": "code",
   "execution_count": 31,
   "metadata": {
    "colab": {
     "base_uri": "https://localhost:8080/"
    },
    "id": "-thy30jHh-Xp",
    "outputId": "1cd21c66-4f67-4fa5-9c32-b5aba33694b4"
   },
   "outputs": [
    {
     "name": "stdout",
     "output_type": "stream",
     "text": [
      "The null hypothesis is NOT rejected.\n",
      "Significance level: 0.05\n"
     ]
    }
   ],
   "source": [
    "print(proportion_Hypo_testing(0.35, 0.27, 0.05, 45))"
   ]
  },
  {
   "cell_type": "markdown",
   "metadata": {
    "id": "z0QOLWrklut9"
   },
   "source": [
    "**<i> שאלה 1 </i>**   \n",
    "**<i>(ג) </i>** "
   ]
  },
  {
   "cell_type": "code",
   "execution_count": 33,
   "metadata": {
    "id": "YOA8lUiqlWyZ"
   },
   "outputs": [],
   "source": [
    "def statistical_k_calc(p1, alpha, n):\n",
    "    confidence = 1 - alpha\n",
    "    z_score = round(st.norm.ppf(confidence),3)\n",
    "    k = p1 + (math.sqrt((p1*(1-p1) /n)) * z_score)\n",
    "\n",
    "    if k > p1:\n",
    "       return 'The null hypothesis is NOT rejected.\\nSignificance level: {}'.format(alpha)\n",
    "    else:\n",
    "        return 'The null hypothesis is rejected.\\nSignificance level: {}'.format(alpha)    "
   ]
  },
  {
   "cell_type": "code",
   "execution_count": 34,
   "metadata": {
    "colab": {
     "base_uri": "https://localhost:8080/"
    },
    "id": "E8zY4AHZm4ku",
    "outputId": "199635a5-7f0a-47b2-ebc2-39253e7e859b"
   },
   "outputs": [
    {
     "name": "stdout",
     "output_type": "stream",
     "text": [
      "The null hypothesis is NOT rejected.\n",
      "Significance level: 0.05\n"
     ]
    }
   ],
   "source": [
    "print(statistical_k_calc(0.27, 0.05, 45))"
   ]
  },
  {
   "cell_type": "markdown",
   "metadata": {
    "id": "PrKWfZapnQB9"
   },
   "source": [
    "**<i> שאלה 2 </i>**   \n",
    "**<i>(ד) </i>**"
   ]
  },
  {
   "cell_type": "code",
   "execution_count": 51,
   "metadata": {
    "id": "L4guc0VYnFTK"
   },
   "outputs": [],
   "source": [
    "def proportion_conf_interval(p1, alpha, n):\n",
    "    confidence = 1 - alpha\n",
    "    z_score = round(st.norm.ppf(confidence),3)\n",
    "    interval = math.sqrt((p1*(1-p1) /n)) * z_score  \n",
    "    up_border = round((p1 + interval),4)\n",
    "    low_border = round((p1- interval),4)\n",
    "    result = (low_border, up_border)\n",
    "\n",
    "    return 'The confidence interval is: {} \\nConfidence level = {}'.format(result, confidence)"
   ]
  },
  {
   "cell_type": "code",
   "execution_count": 52,
   "metadata": {
    "colab": {
     "base_uri": "https://localhost:8080/"
    },
    "id": "Kyn9RFqynwR8",
    "outputId": "ff0cfb64-c943-4b1c-dbf5-159e664ce256"
   },
   "outputs": [
    {
     "name": "stdout",
     "output_type": "stream",
     "text": [
      "The confidence interval is: (0.1143, 0.1657) \n",
      "Confidence level = 0.9\n"
     ]
    }
   ],
   "source": [
    "print(proportion_conf_interval(0.14, 0.1, 300))"
   ]
  },
  {
   "cell_type": "markdown",
   "metadata": {
    "id": "VKWsZm2XpJMO"
   },
   "source": [
    "**<i> שאלה 3 </i>**   \n",
    "**<i>(ד) </i>** "
   ]
  },
  {
   "cell_type": "code",
   "execution_count": 53,
   "metadata": {
    "colab": {
     "base_uri": "https://localhost:8080/"
    },
    "id": "_JPpetvRo7JJ",
    "outputId": "762e515f-ce36-46d7-dee4-251129cfdec2"
   },
   "outputs": [
    {
     "name": "stdout",
     "output_type": "stream",
     "text": [
      "The confidence interval is: (0.676, 0.724) \n",
      "Confidence level = 0.9\n"
     ]
    }
   ],
   "source": [
    "print(proportion_conf_interval(0.7, 0.1, 600))"
   ]
  },
  {
   "cell_type": "code",
   "execution_count": null,
   "metadata": {
    "id": "7EfCVvWnp4GL"
   },
   "outputs": [],
   "source": []
  }
 ],
 "metadata": {
  "colab": {
   "collapsed_sections": [],
   "name": "Statistics HW5.ipynb",
   "provenance": []
  },
  "kernelspec": {
   "display_name": "Python 3 (ipykernel)",
   "language": "python",
   "name": "python3"
  },
  "language_info": {
   "codemirror_mode": {
    "name": "ipython",
    "version": 3
   },
   "file_extension": ".py",
   "mimetype": "text/x-python",
   "name": "python",
   "nbconvert_exporter": "python",
   "pygments_lexer": "ipython3",
   "version": "3.7.11"
  }
 },
 "nbformat": 4,
 "nbformat_minor": 1
}
