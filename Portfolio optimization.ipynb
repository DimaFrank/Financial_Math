{
 "cells": [
  {
   "cell_type": "code",
   "execution_count": 1,
   "id": "a021dc56",
   "metadata": {},
   "outputs": [],
   "source": [
    "import numpy as np\n",
    "import pandas as pd\n",
    "import matplotlib.pyplot as plt\n",
    "\n",
    "from tqdm import tqdm\n",
    "\n",
    "import plotly\n",
    "import plotly.graph_objects as go\n",
    "from plotly.subplots import make_subplots\n",
    "import plotly.express as px\n",
    "import plotly.figure_factory as ff"
   ]
  },
  {
   "cell_type": "markdown",
   "id": "726eeb89",
   "metadata": {},
   "source": [
    "### Question 2 :"
   ]
  },
  {
   "cell_type": "code",
   "execution_count": 2,
   "id": "fc95bcaf",
   "metadata": {},
   "outputs": [
    {
     "data": {
      "text/html": [
       "<div>\n",
       "<style scoped>\n",
       "    .dataframe tbody tr th:only-of-type {\n",
       "        vertical-align: middle;\n",
       "    }\n",
       "\n",
       "    .dataframe tbody tr th {\n",
       "        vertical-align: top;\n",
       "    }\n",
       "\n",
       "    .dataframe thead th {\n",
       "        text-align: right;\n",
       "    }\n",
       "</style>\n",
       "<table border=\"1\" class=\"dataframe\">\n",
       "  <thead>\n",
       "    <tr style=\"text-align: right;\">\n",
       "      <th></th>\n",
       "      <th>AAPL</th>\n",
       "      <th>ABEV</th>\n",
       "      <th>F</th>\n",
       "      <th>GOOG</th>\n",
       "      <th>QQQ</th>\n",
       "      <th>TEVA</th>\n",
       "    </tr>\n",
       "    <tr>\n",
       "      <th>Date</th>\n",
       "      <th></th>\n",
       "      <th></th>\n",
       "      <th></th>\n",
       "      <th></th>\n",
       "      <th></th>\n",
       "      <th></th>\n",
       "    </tr>\n",
       "  </thead>\n",
       "  <tbody>\n",
       "    <tr>\n",
       "      <th>2013-12-31</th>\n",
       "      <td>80.15</td>\n",
       "      <td>7.35</td>\n",
       "      <td>15.43</td>\n",
       "      <td>559.79</td>\n",
       "      <td>87.96</td>\n",
       "      <td>40.08</td>\n",
       "    </tr>\n",
       "    <tr>\n",
       "      <th>2014-01-02</th>\n",
       "      <td>79.02</td>\n",
       "      <td>7.28</td>\n",
       "      <td>15.44</td>\n",
       "      <td>556.00</td>\n",
       "      <td>87.27</td>\n",
       "      <td>40.26</td>\n",
       "    </tr>\n",
       "    <tr>\n",
       "      <th>2014-01-03</th>\n",
       "      <td>77.28</td>\n",
       "      <td>7.14</td>\n",
       "      <td>15.51</td>\n",
       "      <td>551.95</td>\n",
       "      <td>86.64</td>\n",
       "      <td>39.88</td>\n",
       "    </tr>\n",
       "    <tr>\n",
       "      <th>2014-01-06</th>\n",
       "      <td>77.70</td>\n",
       "      <td>6.98</td>\n",
       "      <td>15.58</td>\n",
       "      <td>558.10</td>\n",
       "      <td>86.32</td>\n",
       "      <td>40.49</td>\n",
       "    </tr>\n",
       "    <tr>\n",
       "      <th>2014-01-07</th>\n",
       "      <td>77.15</td>\n",
       "      <td>7.25</td>\n",
       "      <td>15.38</td>\n",
       "      <td>568.86</td>\n",
       "      <td>87.12</td>\n",
       "      <td>41.21</td>\n",
       "    </tr>\n",
       "  </tbody>\n",
       "</table>\n",
       "</div>"
      ],
      "text/plain": [
       "             AAPL  ABEV      F    GOOG    QQQ   TEVA\n",
       "Date                                                \n",
       "2013-12-31  80.15  7.35  15.43  559.79  87.96  40.08\n",
       "2014-01-02  79.02  7.28  15.44  556.00  87.27  40.26\n",
       "2014-01-03  77.28  7.14  15.51  551.95  86.64  39.88\n",
       "2014-01-06  77.70  6.98  15.58  558.10  86.32  40.49\n",
       "2014-01-07  77.15  7.25  15.38  568.86  87.12  41.21"
      ]
     },
     "execution_count": 2,
     "metadata": {},
     "output_type": "execute_result"
    }
   ],
   "source": [
    "#---Choosing some attractive stocks from attached file\n",
    "\n",
    "stock_list = ['AAPL','ABEV','F','GOOG','QQQ','TEVA']\n",
    "# stock_list = ['AAPL','ABEV']\n",
    "stock_data = pd.read_csv('stock_data.csv', usecols=['Date']+stock_list, index_col='Date')\n",
    "stock_data.head()"
   ]
  },
  {
   "cell_type": "code",
   "execution_count": 3,
   "id": "17a103ec",
   "metadata": {},
   "outputs": [
    {
     "data": {
      "text/plain": [
       "(757, 6)"
      ]
     },
     "execution_count": 3,
     "metadata": {},
     "output_type": "execute_result"
    }
   ],
   "source": [
    "stock_data.shape"
   ]
  },
  {
   "cell_type": "code",
   "execution_count": 4,
   "id": "23212460",
   "metadata": {},
   "outputs": [
    {
     "data": {
      "text/html": [
       "<div>\n",
       "<style scoped>\n",
       "    .dataframe tbody tr th:only-of-type {\n",
       "        vertical-align: middle;\n",
       "    }\n",
       "\n",
       "    .dataframe tbody tr th {\n",
       "        vertical-align: top;\n",
       "    }\n",
       "\n",
       "    .dataframe thead th {\n",
       "        text-align: right;\n",
       "    }\n",
       "</style>\n",
       "<table border=\"1\" class=\"dataframe\">\n",
       "  <thead>\n",
       "    <tr style=\"text-align: right;\">\n",
       "      <th></th>\n",
       "      <th>AAPL</th>\n",
       "      <th>ABEV</th>\n",
       "      <th>F</th>\n",
       "      <th>GOOG</th>\n",
       "      <th>QQQ</th>\n",
       "      <th>TEVA</th>\n",
       "    </tr>\n",
       "    <tr>\n",
       "      <th>Date</th>\n",
       "      <th></th>\n",
       "      <th></th>\n",
       "      <th></th>\n",
       "      <th></th>\n",
       "      <th></th>\n",
       "      <th></th>\n",
       "    </tr>\n",
       "  </thead>\n",
       "  <tbody>\n",
       "    <tr>\n",
       "      <th>2016-12-23</th>\n",
       "      <td>116.52</td>\n",
       "      <td>4.86</td>\n",
       "      <td>12.46</td>\n",
       "      <td>789.91</td>\n",
       "      <td>120.20</td>\n",
       "      <td>36.82</td>\n",
       "    </tr>\n",
       "    <tr>\n",
       "      <th>2016-12-27</th>\n",
       "      <td>117.26</td>\n",
       "      <td>4.89</td>\n",
       "      <td>12.39</td>\n",
       "      <td>791.55</td>\n",
       "      <td>120.82</td>\n",
       "      <td>36.34</td>\n",
       "    </tr>\n",
       "    <tr>\n",
       "      <th>2016-12-28</th>\n",
       "      <td>116.76</td>\n",
       "      <td>4.91</td>\n",
       "      <td>12.25</td>\n",
       "      <td>785.05</td>\n",
       "      <td>119.88</td>\n",
       "      <td>35.93</td>\n",
       "    </tr>\n",
       "    <tr>\n",
       "      <th>2016-12-29</th>\n",
       "      <td>116.73</td>\n",
       "      <td>4.95</td>\n",
       "      <td>12.23</td>\n",
       "      <td>782.79</td>\n",
       "      <td>119.71</td>\n",
       "      <td>36.08</td>\n",
       "    </tr>\n",
       "    <tr>\n",
       "      <th>2016-12-30</th>\n",
       "      <td>115.82</td>\n",
       "      <td>4.91</td>\n",
       "      <td>12.13</td>\n",
       "      <td>771.82</td>\n",
       "      <td>118.48</td>\n",
       "      <td>36.25</td>\n",
       "    </tr>\n",
       "  </tbody>\n",
       "</table>\n",
       "</div>"
      ],
      "text/plain": [
       "              AAPL  ABEV      F    GOOG     QQQ   TEVA\n",
       "Date                                                  \n",
       "2016-12-23  116.52  4.86  12.46  789.91  120.20  36.82\n",
       "2016-12-27  117.26  4.89  12.39  791.55  120.82  36.34\n",
       "2016-12-28  116.76  4.91  12.25  785.05  119.88  35.93\n",
       "2016-12-29  116.73  4.95  12.23  782.79  119.71  36.08\n",
       "2016-12-30  115.82  4.91  12.13  771.82  118.48  36.25"
      ]
     },
     "execution_count": 4,
     "metadata": {},
     "output_type": "execute_result"
    }
   ],
   "source": [
    "stock_data.tail()"
   ]
  },
  {
   "cell_type": "code",
   "execution_count": 5,
   "id": "227ccd60",
   "metadata": {},
   "outputs": [
    {
     "data": {
      "text/html": [
       "<div>\n",
       "<style scoped>\n",
       "    .dataframe tbody tr th:only-of-type {\n",
       "        vertical-align: middle;\n",
       "    }\n",
       "\n",
       "    .dataframe tbody tr th {\n",
       "        vertical-align: top;\n",
       "    }\n",
       "\n",
       "    .dataframe thead th {\n",
       "        text-align: right;\n",
       "    }\n",
       "</style>\n",
       "<table border=\"1\" class=\"dataframe\">\n",
       "  <thead>\n",
       "    <tr style=\"text-align: right;\">\n",
       "      <th></th>\n",
       "      <th>AAPL</th>\n",
       "      <th>ABEV</th>\n",
       "      <th>F</th>\n",
       "      <th>GOOG</th>\n",
       "      <th>QQQ</th>\n",
       "      <th>TEVA</th>\n",
       "    </tr>\n",
       "    <tr>\n",
       "      <th>Date</th>\n",
       "      <th></th>\n",
       "      <th></th>\n",
       "      <th></th>\n",
       "      <th></th>\n",
       "      <th></th>\n",
       "      <th></th>\n",
       "    </tr>\n",
       "  </thead>\n",
       "  <tbody>\n",
       "    <tr>\n",
       "      <th>2014-01-02</th>\n",
       "      <td>-0.014099</td>\n",
       "      <td>-0.009524</td>\n",
       "      <td>0.000648</td>\n",
       "      <td>-0.006770</td>\n",
       "      <td>-0.007844</td>\n",
       "      <td>0.004491</td>\n",
       "    </tr>\n",
       "    <tr>\n",
       "      <th>2014-01-03</th>\n",
       "      <td>-0.022020</td>\n",
       "      <td>-0.019231</td>\n",
       "      <td>0.004534</td>\n",
       "      <td>-0.007284</td>\n",
       "      <td>-0.007219</td>\n",
       "      <td>-0.009439</td>\n",
       "    </tr>\n",
       "    <tr>\n",
       "      <th>2014-01-06</th>\n",
       "      <td>0.005435</td>\n",
       "      <td>-0.022409</td>\n",
       "      <td>0.004513</td>\n",
       "      <td>0.011142</td>\n",
       "      <td>-0.003693</td>\n",
       "      <td>0.015296</td>\n",
       "    </tr>\n",
       "    <tr>\n",
       "      <th>2014-01-07</th>\n",
       "      <td>-0.007079</td>\n",
       "      <td>0.038682</td>\n",
       "      <td>-0.012837</td>\n",
       "      <td>0.019280</td>\n",
       "      <td>0.009268</td>\n",
       "      <td>0.017782</td>\n",
       "    </tr>\n",
       "    <tr>\n",
       "      <th>2014-01-08</th>\n",
       "      <td>0.006351</td>\n",
       "      <td>0.000000</td>\n",
       "      <td>0.010403</td>\n",
       "      <td>0.002074</td>\n",
       "      <td>0.002181</td>\n",
       "      <td>-0.003883</td>\n",
       "    </tr>\n",
       "    <tr>\n",
       "      <th>...</th>\n",
       "      <td>...</td>\n",
       "      <td>...</td>\n",
       "      <td>...</td>\n",
       "      <td>...</td>\n",
       "      <td>...</td>\n",
       "      <td>...</td>\n",
       "    </tr>\n",
       "    <tr>\n",
       "      <th>2016-12-23</th>\n",
       "      <td>0.001978</td>\n",
       "      <td>0.018868</td>\n",
       "      <td>0.004839</td>\n",
       "      <td>-0.001706</td>\n",
       "      <td>0.000666</td>\n",
       "      <td>-0.002438</td>\n",
       "    </tr>\n",
       "    <tr>\n",
       "      <th>2016-12-27</th>\n",
       "      <td>0.006351</td>\n",
       "      <td>0.006173</td>\n",
       "      <td>-0.005618</td>\n",
       "      <td>0.002076</td>\n",
       "      <td>0.005158</td>\n",
       "      <td>-0.013036</td>\n",
       "    </tr>\n",
       "    <tr>\n",
       "      <th>2016-12-28</th>\n",
       "      <td>-0.004264</td>\n",
       "      <td>0.004090</td>\n",
       "      <td>-0.011299</td>\n",
       "      <td>-0.008212</td>\n",
       "      <td>-0.007780</td>\n",
       "      <td>-0.011282</td>\n",
       "    </tr>\n",
       "    <tr>\n",
       "      <th>2016-12-29</th>\n",
       "      <td>-0.000257</td>\n",
       "      <td>0.008147</td>\n",
       "      <td>-0.001633</td>\n",
       "      <td>-0.002879</td>\n",
       "      <td>-0.001418</td>\n",
       "      <td>0.004175</td>\n",
       "    </tr>\n",
       "    <tr>\n",
       "      <th>2016-12-30</th>\n",
       "      <td>-0.007796</td>\n",
       "      <td>-0.008081</td>\n",
       "      <td>-0.008177</td>\n",
       "      <td>-0.014014</td>\n",
       "      <td>-0.010275</td>\n",
       "      <td>0.004712</td>\n",
       "    </tr>\n",
       "  </tbody>\n",
       "</table>\n",
       "<p>756 rows × 6 columns</p>\n",
       "</div>"
      ],
      "text/plain": [
       "                AAPL      ABEV         F      GOOG       QQQ      TEVA\n",
       "Date                                                                  \n",
       "2014-01-02 -0.014099 -0.009524  0.000648 -0.006770 -0.007844  0.004491\n",
       "2014-01-03 -0.022020 -0.019231  0.004534 -0.007284 -0.007219 -0.009439\n",
       "2014-01-06  0.005435 -0.022409  0.004513  0.011142 -0.003693  0.015296\n",
       "2014-01-07 -0.007079  0.038682 -0.012837  0.019280  0.009268  0.017782\n",
       "2014-01-08  0.006351  0.000000  0.010403  0.002074  0.002181 -0.003883\n",
       "...              ...       ...       ...       ...       ...       ...\n",
       "2016-12-23  0.001978  0.018868  0.004839 -0.001706  0.000666 -0.002438\n",
       "2016-12-27  0.006351  0.006173 -0.005618  0.002076  0.005158 -0.013036\n",
       "2016-12-28 -0.004264  0.004090 -0.011299 -0.008212 -0.007780 -0.011282\n",
       "2016-12-29 -0.000257  0.008147 -0.001633 -0.002879 -0.001418  0.004175\n",
       "2016-12-30 -0.007796 -0.008081 -0.008177 -0.014014 -0.010275  0.004712\n",
       "\n",
       "[756 rows x 6 columns]"
      ]
     },
     "execution_count": 5,
     "metadata": {},
     "output_type": "execute_result"
    }
   ],
   "source": [
    "#---Calculating percent of daily returt for each stock.\n",
    "daily_return_data = stock_data.pct_change()[1:]\n",
    "daily_return_data"
   ]
  },
  {
   "attachments": {
    "image-2.png": {
     "image/png": "[encoded data removed]"
    },
    "image.png": {
     "image/png": "[encoded data removed]"
    }
   },
   "cell_type": "markdown",
   "id": "573c413c",
   "metadata": {},
   "source": [
    "![image.png](attachment:image.png)\n",
    "![image-2.png](attachment:image-2.png)"
   ]
  },
  {
   "cell_type": "code",
   "execution_count": 6,
   "id": "fb2b3cab",
   "metadata": {},
   "outputs": [
    {
     "data": {
      "text/plain": [
       "AAPL    0.000594\n",
       "ABEV   -0.000353\n",
       "F      -0.000209\n",
       "GOOG    0.000531\n",
       "QQQ     0.000440\n",
       "TEVA    0.000021\n",
       "dtype: float64"
      ]
     },
     "execution_count": 6,
     "metadata": {},
     "output_type": "execute_result"
    }
   ],
   "source": [
    "Expected_asset_return = (daily_return_data*(1/765)).sum()\n",
    "Expected_asset_return"
   ]
  },
  {
   "cell_type": "code",
   "execution_count": 7,
   "id": "6aa218ae",
   "metadata": {},
   "outputs": [
    {
     "data": {
      "text/plain": [
       "AAPL    0.000601\n",
       "ABEV   -0.000357\n",
       "F      -0.000211\n",
       "GOOG    0.000537\n",
       "QQQ     0.000445\n",
       "TEVA    0.000021\n",
       "dtype: float64"
      ]
     },
     "execution_count": 7,
     "metadata": {},
     "output_type": "execute_result"
    }
   ],
   "source": [
    "#---Get mean return for 3 years period\n",
    "total_return = daily_return_data.mean()\n",
    "total_return"
   ]
  },
  {
   "attachments": {
    "image.png": {
     "image/png": "[encoded data removed]"
    }
   },
   "cell_type": "markdown",
   "id": "496bc076",
   "metadata": {},
   "source": [
    "![image.png](attachment:image.png)"
   ]
  },
  {
   "cell_type": "code",
   "execution_count": 8,
   "id": "a5ce77b9",
   "metadata": {},
   "outputs": [
    {
     "data": {
      "text/plain": [
       "AAPL    0.000226\n",
       "ABEV    0.000348\n",
       "F       0.000210\n",
       "GOOG    0.000225\n",
       "QQQ     0.000101\n",
       "TEVA    0.000307\n",
       "dtype: float64"
      ]
     },
     "execution_count": 8,
     "metadata": {},
     "output_type": "execute_result"
    }
   ],
   "source": [
    "asset_std = ((1/765)*(daily_return_data-Expected_asset_return)**2).sum()\n",
    "asset_std"
   ]
  },
  {
   "cell_type": "code",
   "execution_count": 9,
   "id": "cd0f1b9e",
   "metadata": {},
   "outputs": [
    {
     "data": {
      "text/html": [
       "<div>\n",
       "<style scoped>\n",
       "    .dataframe tbody tr th:only-of-type {\n",
       "        vertical-align: middle;\n",
       "    }\n",
       "\n",
       "    .dataframe tbody tr th {\n",
       "        vertical-align: top;\n",
       "    }\n",
       "\n",
       "    .dataframe thead th {\n",
       "        text-align: right;\n",
       "    }\n",
       "</style>\n",
       "<table border=\"1\" class=\"dataframe\">\n",
       "  <thead>\n",
       "    <tr style=\"text-align: right;\">\n",
       "      <th></th>\n",
       "      <th>E(R)</th>\n",
       "      <th>std(R)</th>\n",
       "    </tr>\n",
       "  </thead>\n",
       "  <tbody>\n",
       "    <tr>\n",
       "      <th>AAPL</th>\n",
       "      <td>0.000594</td>\n",
       "      <td>0.000226</td>\n",
       "    </tr>\n",
       "    <tr>\n",
       "      <th>ABEV</th>\n",
       "      <td>-0.000353</td>\n",
       "      <td>0.000348</td>\n",
       "    </tr>\n",
       "    <tr>\n",
       "      <th>F</th>\n",
       "      <td>-0.000209</td>\n",
       "      <td>0.000210</td>\n",
       "    </tr>\n",
       "    <tr>\n",
       "      <th>GOOG</th>\n",
       "      <td>0.000531</td>\n",
       "      <td>0.000225</td>\n",
       "    </tr>\n",
       "    <tr>\n",
       "      <th>QQQ</th>\n",
       "      <td>0.000440</td>\n",
       "      <td>0.000101</td>\n",
       "    </tr>\n",
       "    <tr>\n",
       "      <th>TEVA</th>\n",
       "      <td>0.000021</td>\n",
       "      <td>0.000307</td>\n",
       "    </tr>\n",
       "  </tbody>\n",
       "</table>\n",
       "</div>"
      ],
      "text/plain": [
       "          E(R)    std(R)\n",
       "AAPL  0.000594  0.000226\n",
       "ABEV -0.000353  0.000348\n",
       "F    -0.000209  0.000210\n",
       "GOOG  0.000531  0.000225\n",
       "QQQ   0.000440  0.000101\n",
       "TEVA  0.000021  0.000307"
      ]
     },
     "execution_count": 9,
     "metadata": {},
     "output_type": "execute_result"
    }
   ],
   "source": [
    "points = pd.concat([Expected_asset_return, asset_std], axis=1).rename(columns={0: 'E(R)', 1: 'std(R)'})\n",
    "points"
   ]
  },
  {
   "cell_type": "code",
   "execution_count": 10,
   "id": "ebbf4021",
   "metadata": {},
   "outputs": [
    {
     "name": "stdout",
     "output_type": "stream",
     "text": [
      "[[0.19684291 0.01650414 0.27512502 0.03960875 0.03913796 0.43278122]]\n",
      "weights sum:  1.0\n"
     ]
    }
   ],
   "source": [
    "#---Creating random weights for each asset in portfolio\n",
    "\n",
    "np.random.seed(125)\n",
    "weights = np.random.dirichlet(np.ones(len(stock_list)),size=1)\n",
    "print(weights)\n",
    "print('weights sum: ',weights.sum())"
   ]
  },
  {
   "cell_type": "code",
   "execution_count": 11,
   "id": "67c659fe",
   "metadata": {},
   "outputs": [
    {
     "data": {
      "text/html": [
       "<div>\n",
       "<style scoped>\n",
       "    .dataframe tbody tr th:only-of-type {\n",
       "        vertical-align: middle;\n",
       "    }\n",
       "\n",
       "    .dataframe tbody tr th {\n",
       "        vertical-align: top;\n",
       "    }\n",
       "\n",
       "    .dataframe thead th {\n",
       "        text-align: right;\n",
       "    }\n",
       "</style>\n",
       "<table border=\"1\" class=\"dataframe\">\n",
       "  <thead>\n",
       "    <tr style=\"text-align: right;\">\n",
       "      <th></th>\n",
       "      <th>E(R)</th>\n",
       "      <th>std(R)</th>\n",
       "      <th>W</th>\n",
       "    </tr>\n",
       "  </thead>\n",
       "  <tbody>\n",
       "    <tr>\n",
       "      <th>AAPL</th>\n",
       "      <td>0.000594</td>\n",
       "      <td>0.000226</td>\n",
       "      <td>0.196843</td>\n",
       "    </tr>\n",
       "    <tr>\n",
       "      <th>ABEV</th>\n",
       "      <td>-0.000353</td>\n",
       "      <td>0.000348</td>\n",
       "      <td>0.016504</td>\n",
       "    </tr>\n",
       "    <tr>\n",
       "      <th>F</th>\n",
       "      <td>-0.000209</td>\n",
       "      <td>0.000210</td>\n",
       "      <td>0.275125</td>\n",
       "    </tr>\n",
       "    <tr>\n",
       "      <th>GOOG</th>\n",
       "      <td>0.000531</td>\n",
       "      <td>0.000225</td>\n",
       "      <td>0.039609</td>\n",
       "    </tr>\n",
       "    <tr>\n",
       "      <th>QQQ</th>\n",
       "      <td>0.000440</td>\n",
       "      <td>0.000101</td>\n",
       "      <td>0.039138</td>\n",
       "    </tr>\n",
       "    <tr>\n",
       "      <th>TEVA</th>\n",
       "      <td>0.000021</td>\n",
       "      <td>0.000307</td>\n",
       "      <td>0.432781</td>\n",
       "    </tr>\n",
       "  </tbody>\n",
       "</table>\n",
       "</div>"
      ],
      "text/plain": [
       "          E(R)    std(R)         W\n",
       "AAPL  0.000594  0.000226  0.196843\n",
       "ABEV -0.000353  0.000348  0.016504\n",
       "F    -0.000209  0.000210  0.275125\n",
       "GOOG  0.000531  0.000225  0.039609\n",
       "QQQ   0.000440  0.000101  0.039138\n",
       "TEVA  0.000021  0.000307  0.432781"
      ]
     },
     "execution_count": 11,
     "metadata": {},
     "output_type": "execute_result"
    }
   ],
   "source": [
    "#---Adding weights column to the Points dataFrame\n",
    "w =[]\n",
    "for i in range(len(stock_list)):\n",
    "    w.append(weights[0,i])\n",
    " \n",
    "weights_dict = {\"W\": w}\n",
    "weights_dict = pd.DataFrame(weights_dict, index = stock_list )\n",
    "points= pd.concat([points,weights_dict], axis=1)\n",
    "points"
   ]
  },
  {
   "cell_type": "code",
   "execution_count": 12,
   "id": "8ebf707c",
   "metadata": {},
   "outputs": [
    {
     "data": {
      "text/html": [
       "<div>\n",
       "<style scoped>\n",
       "    .dataframe tbody tr th:only-of-type {\n",
       "        vertical-align: middle;\n",
       "    }\n",
       "\n",
       "    .dataframe tbody tr th {\n",
       "        vertical-align: top;\n",
       "    }\n",
       "\n",
       "    .dataframe thead th {\n",
       "        text-align: right;\n",
       "    }\n",
       "</style>\n",
       "<table border=\"1\" class=\"dataframe\">\n",
       "  <thead>\n",
       "    <tr style=\"text-align: right;\">\n",
       "      <th></th>\n",
       "      <th>AAPL</th>\n",
       "      <th>ABEV</th>\n",
       "      <th>F</th>\n",
       "      <th>GOOG</th>\n",
       "      <th>QQQ</th>\n",
       "      <th>TEVA</th>\n",
       "    </tr>\n",
       "  </thead>\n",
       "  <tbody>\n",
       "    <tr>\n",
       "      <th>AAPL</th>\n",
       "      <td>0.000229</td>\n",
       "      <td>0.000069</td>\n",
       "      <td>0.000077</td>\n",
       "      <td>0.000084</td>\n",
       "      <td>0.000104</td>\n",
       "      <td>0.000051</td>\n",
       "    </tr>\n",
       "    <tr>\n",
       "      <th>ABEV</th>\n",
       "      <td>0.000069</td>\n",
       "      <td>0.000353</td>\n",
       "      <td>0.000071</td>\n",
       "      <td>0.000067</td>\n",
       "      <td>0.000076</td>\n",
       "      <td>0.000034</td>\n",
       "    </tr>\n",
       "    <tr>\n",
       "      <th>F</th>\n",
       "      <td>0.000077</td>\n",
       "      <td>0.000071</td>\n",
       "      <td>0.000213</td>\n",
       "      <td>0.000077</td>\n",
       "      <td>0.000085</td>\n",
       "      <td>0.000064</td>\n",
       "    </tr>\n",
       "    <tr>\n",
       "      <th>GOOG</th>\n",
       "      <td>0.000084</td>\n",
       "      <td>0.000067</td>\n",
       "      <td>0.000077</td>\n",
       "      <td>0.000228</td>\n",
       "      <td>0.000110</td>\n",
       "      <td>0.000068</td>\n",
       "    </tr>\n",
       "    <tr>\n",
       "      <th>QQQ</th>\n",
       "      <td>0.000104</td>\n",
       "      <td>0.000076</td>\n",
       "      <td>0.000085</td>\n",
       "      <td>0.000110</td>\n",
       "      <td>0.000102</td>\n",
       "      <td>0.000066</td>\n",
       "    </tr>\n",
       "    <tr>\n",
       "      <th>TEVA</th>\n",
       "      <td>0.000051</td>\n",
       "      <td>0.000034</td>\n",
       "      <td>0.000064</td>\n",
       "      <td>0.000068</td>\n",
       "      <td>0.000066</td>\n",
       "      <td>0.000312</td>\n",
       "    </tr>\n",
       "  </tbody>\n",
       "</table>\n",
       "</div>"
      ],
      "text/plain": [
       "          AAPL      ABEV         F      GOOG       QQQ      TEVA\n",
       "AAPL  0.000229  0.000069  0.000077  0.000084  0.000104  0.000051\n",
       "ABEV  0.000069  0.000353  0.000071  0.000067  0.000076  0.000034\n",
       "F     0.000077  0.000071  0.000213  0.000077  0.000085  0.000064\n",
       "GOOG  0.000084  0.000067  0.000077  0.000228  0.000110  0.000068\n",
       "QQQ   0.000104  0.000076  0.000085  0.000110  0.000102  0.000066\n",
       "TEVA  0.000051  0.000034  0.000064  0.000068  0.000066  0.000312"
      ]
     },
     "execution_count": 12,
     "metadata": {},
     "output_type": "execute_result"
    }
   ],
   "source": [
    "#-- Get covariances\n",
    "cov = daily_return_data.cov()\n",
    "cov"
   ]
  },
  {
   "cell_type": "code",
   "execution_count": 13,
   "id": "3b3f70bd",
   "metadata": {},
   "outputs": [
    {
     "data": {
      "text/plain": [
       "array([[2.28681529e-04, 6.90763676e-05, 7.70602673e-05, 8.40056310e-05,\n",
       "        1.03673570e-04, 5.05611509e-05],\n",
       "       [6.90763676e-05, 3.52719524e-04, 7.07266849e-05, 6.69782303e-05,\n",
       "        7.63894628e-05, 3.37701981e-05],\n",
       "       [7.70602673e-05, 7.07266849e-05, 2.13118925e-04, 7.72250900e-05,\n",
       "        8.45873181e-05, 6.41665951e-05],\n",
       "       [8.40056310e-05, 6.69782303e-05, 7.72250900e-05, 2.27732976e-04,\n",
       "        1.10089086e-04, 6.78165228e-05],\n",
       "       [1.03673570e-04, 7.63894628e-05, 8.45873181e-05, 1.10089086e-04,\n",
       "        1.02384207e-04, 6.62983559e-05],\n",
       "       [5.05611509e-05, 3.37701981e-05, 6.41665951e-05, 6.78165228e-05,\n",
       "        6.62983559e-05, 3.11535535e-04]])"
      ]
     },
     "execution_count": 13,
     "metadata": {},
     "output_type": "execute_result"
    }
   ],
   "source": [
    "cov_matrix = cov.to_numpy()\n",
    "cov_matrix"
   ]
  },
  {
   "cell_type": "code",
   "execution_count": 14,
   "id": "3d07752d",
   "metadata": {},
   "outputs": [
    {
     "data": {
      "text/plain": [
       "array([0.19684291, 0.01650414, 0.27512502, 0.03960875, 0.03913796,\n",
       "       0.43278122])"
      ]
     },
     "execution_count": 14,
     "metadata": {},
     "output_type": "execute_result"
    }
   ],
   "source": [
    "vector_w = weights_dict['W'].to_numpy()\n",
    "vector_w"
   ]
  },
  {
   "cell_type": "code",
   "execution_count": 15,
   "id": "8256d476",
   "metadata": {},
   "outputs": [],
   "source": [
    "portfolio_expected_val = (points['E(R)']*points['W']).sum()\n",
    "portfolio_std = (vector_w.dot(cov_matrix)).dot(vector_w.transpose())"
   ]
  },
  {
   "attachments": {
    "image-2.png": {
     "image/png": "[encoded data removed]"
    }
   },
   "cell_type": "markdown",
   "id": "8af2519a",
   "metadata": {},
   "source": [
    "![image-2.png](attachment:image-2.png)"
   ]
  },
  {
   "cell_type": "code",
   "execution_count": 16,
   "id": "a9985c07",
   "metadata": {},
   "outputs": [
    {
     "name": "stdout",
     "output_type": "stream",
     "text": [
      "(0.013%,0.01%)\n"
     ]
    }
   ],
   "source": [
    "class Point:\n",
    "    \n",
    "    def __init__(self,x,y):\n",
    "        self.x = x\n",
    "        self.y = y\n",
    "    \n",
    "    def percent_format(self):\n",
    "        self.x = round((self.x*100),3)\n",
    "        self.y = round((self.y*100),3)\n",
    "        \n",
    "    def __repr__(self):\n",
    "        return '({}%,{}%)'.format(self.x,self.y)\n",
    "    \n",
    "p1= Point(portfolio_std, portfolio_expected_val)\n",
    "p1.percent_format()\n",
    "print(p1)"
   ]
  },
  {
   "cell_type": "markdown",
   "id": "7c053f3d",
   "metadata": {},
   "source": [
    "### Creating 100 random portfolios by generating random weights of 6 assets"
   ]
  },
  {
   "cell_type": "code",
   "execution_count": 17,
   "id": "63c5f7f8",
   "metadata": {},
   "outputs": [
    {
     "data": {
      "text/plain": [
       "Text(0, 0.5, 'Portfolio expected return in %')"
      ]
     },
     "execution_count": 17,
     "metadata": {},
     "output_type": "execute_result"
    },
    {
     "data": {
      "image/png": "[encoded data removed]",
      "text/plain": [
       "<Figure size 864x576 with 1 Axes>"
      ]
     },
     "metadata": {
      "needs_background": "light"
     },
     "output_type": "display_data"
    }
   ],
   "source": [
    "x = []\n",
    "y = []\n",
    "for i in range(100):\n",
    "    np.random.seed()\n",
    "    weights = np.random.dirichlet(np.ones(len(stock_list)),size=1)\n",
    "\n",
    "    w =[]\n",
    "    for i in range(len(stock_list)):\n",
    "        w.append(weights[0,i])\n",
    "\n",
    "    weights_dict = {\"W\": w}\n",
    "    weights_dict = pd.DataFrame(weights_dict, index = stock_list )\n",
    "    points_i = pd.concat([points[['E(R)','std(R)']],weights_dict], axis=1)\n",
    "#     print(points_i)\n",
    "    cov_i = daily_return_data.cov()\n",
    "    cov_matrix_i = cov.to_numpy()\n",
    "    vector_w_i = weights_dict['W'].to_numpy()\n",
    "    portfolio_i_expected_val = (points_i['E(R)']*points_i['W']).sum()\n",
    "    portfolio_i_std = (vector_w_i.dot(cov_matrix_i)).dot(vector_w_i.transpose())\n",
    "#     print(portfolio_i_expected_val)\n",
    "#     print(portfolio_i_std)\n",
    "    x.append(portfolio_i_std)\n",
    "    y.append(portfolio_i_expected_val)\n",
    "\n",
    "    \n",
    "#--Ploting random portfolios    \n",
    "plt.figure(figsize=(12, 8))\n",
    "df = pd.DataFrame({'X':x,'Y':y})*100\n",
    "plt.scatter(df['X'],df['Y'])\n",
    "plt.xlabel('Portfolio standard deviation in %')\n",
    "plt.ylabel('Portfolio expected return in %')"
   ]
  },
  {
   "cell_type": "code",
   "execution_count": 26,
   "id": "41ca97ef",
   "metadata": {},
   "outputs": [
    {
     "data": {
      "application/vnd.plotly.v1+json": {
       "config": {
        "plotlyServerURL": "https://plot.ly"
       },
       "data": [
        {
         "marker": {
          "color": [
           0.5419278606432834,
           0.46546866877050813,
           0.8055430852974379,
           1.6138605101738592,
           0.35638900915186683,
           -5.7343092196594405,
           1.5567114946377136,
           0.4881316036744359,
           1.0245852677349707,
           0.2431661424485361,
           0.6542245293276806,
           0.8851927295805906,
           2.8226355220166597,
           0.283550069266334,
           0.5261386502451664,
           0.4147645086596579,
           0.5106258293929171,
           -2.302990576470381,
           0.752452750245455,
           0.5776170898278615,
           0.44464955476366436,
           1.637376173583458,
           0.5447224958612127,
           0.5017972601485369,
           1.0139170001246132,
           -3.552295068592221,
           16.18427463979241,
           1.455092659650392,
           0.34908689712819235,
           0.4293865374945829,
           1.256712061138049,
           0.344299043242835,
           0.4949299523337645,
           4.127112415248403,
           0.4791683506063335,
           0.3475930119319576,
           1.0139101787779567,
           0.4971631205968651,
           0.4845782367815886,
           16.280362423669377,
           0.8688276490019795,
           0.5914980437534556,
           0.3294485137915629,
           0.3099859264679944,
           0.6953942929248753,
           0.6416606292504162,
           1.2547089055001504,
           0.3368261065587453,
           0.6618528238909674,
           0.32471096646523673,
           0.5221715765744768,
           -3.1484068860479604,
           0.5652540393408285,
           -2.035046167385144,
           0.3276984968777877,
           1.8727255657594792,
           1.0151931169262522,
           0.8816433412877505,
           14.310879232534656,
           3.8138532717337896,
           0.5500453405656607,
           1.6051809843729559,
           -3.2884590215652305,
           -1.30716806432394,
           0.505857261026706,
           0.36131371155284364,
           0.39085647893416103,
           0.7606411943192573,
           0.5458529862081066,
           0.4046761134822838,
           0.5983654063859598,
           0.6233687677048342,
           -1.804094951282801,
           0.4051024004781904,
           2.492239988581413,
           0.3892524969797995,
           0.39749515215099124,
           1.8872937813798136,
           0.49570193265548285,
           0.4432242381897106,
           -8.882546451404787,
           31.863176421427774,
           0.658351631758676,
           0.3159335069787125,
           1.5465406248293787,
           0.763151708082072,
           0.6354494527570762,
           0.6883852373351335,
           2.607702686165098,
           0.5823111212172224,
           1.5870315155573882,
           21.080223801026445,
           0.325058930127705,
           0.3342718712722445,
           -0.7079290893178859,
           3.3710700422882156,
           0.29933645538873466,
           0.878944717206604,
           0.6792275181967621,
           0.35081375457007
          ],
          "colorbar": {
           "title": {
            "text": "Sharpe<br>Ratio"
           }
          },
          "colorscale": [
           [
            0,
            "rgb(103,0,31)"
           ],
           [
            0.1,
            "rgb(178,24,43)"
           ],
           [
            0.2,
            "rgb(214,96,77)"
           ],
           [
            0.3,
            "rgb(244,165,130)"
           ],
           [
            0.4,
            "rgb(253,219,199)"
           ],
           [
            0.5,
            "rgb(247,247,247)"
           ],
           [
            0.6,
            "rgb(209,229,240)"
           ],
           [
            0.7,
            "rgb(146,197,222)"
           ],
           [
            0.8,
            "rgb(67,147,195)"
           ],
           [
            0.9,
            "rgb(33,102,172)"
           ],
           [
            1,
            "rgb(5,48,97)"
           ]
          ],
          "line": {
           "width": 1
          },
          "showscale": true,
          "size": 7
         },
         "mode": "markers",
         "type": "scatter",
         "x": [
          0.009871874818216966,
          0.01153092161128044,
          0.011196319514593316,
          0.012523614731439127,
          0.01165143001228133,
          0.012884373398653653,
          0.012321966918923299,
          0.012411830393046719,
          0.011621743583116944,
          0.00994150169257337,
          0.010439826770029118,
          0.011146389490230205,
          0.01167837927338391,
          0.013975552157896158,
          0.011731776653699271,
          0.010518243129254699,
          0.010144441767521288,
          0.011707412820681214,
          0.01033872110124654,
          0.010407355661631356,
          0.010383397011925933,
          0.010602975275576493,
          0.014076815792993686,
          0.010465949153043596,
          0.011352800288507556,
          0.014410999348104652,
          0.011021188675330976,
          0.012415982457816773,
          0.01302584614398746,
          0.01281566275370806,
          0.010621598259370724,
          0.011932735856576558,
          0.014276332957626205,
          0.013174792478157739,
          0.010396702979145972,
          0.013692087024464691,
          0.011514332228770513,
          0.010453149536006238,
          0.01037977424512705,
          0.013605666251174592,
          0.010269136968758821,
          0.01253149570643778,
          0.00991918968042608,
          0.01056312004918989,
          0.011664458482670982,
          0.012490833990540538,
          0.01132623045274754,
          0.010824509850874187,
          0.01245602071200888,
          0.012225211418965943,
          0.014167890621930322,
          0.011822775648600457,
          0.012531981484515156,
          0.013691987388768555,
          0.012679443220422259,
          0.012845032642929162,
          0.010569819560719555,
          0.012912701284577326,
          0.011084399631883885,
          0.01488692548753812,
          0.010273616077786788,
          0.013952346770555984,
          0.01284017472589735,
          0.014420960560583678,
          0.012606582508785939,
          0.011642752753444303,
          0.012323154003330667,
          0.010968308661960389,
          0.01129439624451045,
          0.010568461500998057,
          0.010788136533292627,
          0.013236067702694749,
          0.011987603775311342,
          0.01142450456868199,
          0.010501933889823565,
          0.014798075054180359,
          0.010210515596207906,
          0.010596344093602135,
          0.010512184038227077,
          0.010358334549102899,
          0.012043037298112735,
          0.011990102624291461,
          0.01361201887207578,
          0.011691163452154776,
          0.01064979195194944,
          0.0129423661251099,
          0.010866329944784507,
          0.011592290143751297,
          0.014315702090569643,
          0.013400594933810213,
          0.012623439985067658,
          0.014763635940981675,
          0.015801613192438835,
          0.014496960053681469,
          0.015990672692325295,
          0.013461408323616662,
          0.01313486108081855,
          0.011527833159247788,
          0.010808765267953475,
          0.009981843206302363
         ],
         "y": [
          0.018216215727493282,
          0.024772712719286327,
          0.013899094559863547,
          0.007760035425917927,
          0.0326930116055188,
          -0.002246891980376819,
          0.007915382497892413,
          0.025427221469816793,
          0.011342875941217552,
          0.04088357693414246,
          0.01595755937301479,
          0.012592048169568031,
          0.004137402502835427,
          0.049287775503130446,
          0.02229788031773104,
          0.025359554421001875,
          0.01986668355492712,
          -0.005083569572665937,
          0.013740026995547536,
          0.018017741934770147,
          0.023351866432082254,
          0.006475589083705482,
          0.02584217817319638,
          0.020856927656292053,
          0.011196972027406845,
          -0.004056813713342723,
          0.0006809813180155192,
          0.008532777878764023,
          0.03731405060214587,
          0.029846447512038594,
          0.008451894899259623,
          0.0346580569733398,
          0.028845158573063516,
          0.0031922543300446473,
          0.021697390835580265,
          0.03939114583565034,
          0.01135636318657781,
          0.021025593216682674,
          0.02142022372706241,
          0.0008357102807118011,
          0.011819532884980073,
          0.021186030687298567,
          0.03010846692330748,
          0.03407612780859752,
          0.01677387721088346,
          0.019466417949208212,
          0.009026978610813871,
          0.03213678999370051,
          0.01881992531025427,
          0.03764951813007142,
          0.027132634669381647,
          -0.0037551612852178085,
          0.022170529730542638,
          -0.006728096692942135,
          0.03869240579748813,
          0.006859004265112326,
          0.01041163438215804,
          0.014646173435299482,
          0.0007745435798720442,
          0.003903381810168716,
          0.018677762213604995,
          0.008692070804717573,
          -0.003904617525015022,
          -0.011032216096896552,
          0.024921224780285186,
          0.032223390314766676,
          0.0315285908447394,
          0.014419819415350725,
          0.02069127865905722,
          0.026115852033012893,
          0.018029345310002807,
          0.021233126182160673,
          -0.006644663445672614,
          0.028201522763618023,
          0.004213853376055203,
          0.038016647726085914,
          0.02568714496505198,
          0.005614570555017182,
          0.021206663411443942,
          0.023370415371257933,
          -0.0013558090986631557,
          0.0003762996653474949,
          0.02067590967415628,
          0.03700513935339731,
          0.006886202522565078,
          0.016959099990270916,
          0.017100227087517156,
          0.01683982966954259,
          0.005489775412864415,
          0.023012775208205792,
          0.007954120546014567,
          0.0007003548007997334,
          0.04861153387243015,
          0.043368770451745725,
          -0.02258795822012747,
          0.003993215256506306,
          0.04387992456101246,
          0.013115538365011942,
          0.01591332061552656,
          0.028453397497299762
         ]
        }
       ],
       "layout": {
        "coloraxis": {
         "colorbar": {
          "title": {
           "text": "Sharpe Ratio"
          }
         }
        },
        "height": 500,
        "template": {
         "data": {
          "bar": [
           {
            "error_x": {
             "color": "#2a3f5f"
            },
            "error_y": {
             "color": "#2a3f5f"
            },
            "marker": {
             "line": {
              "color": "white",
              "width": 0.5
             },
             "pattern": {
              "fillmode": "overlay",
              "size": 10,
              "solidity": 0.2
             }
            },
            "type": "bar"
           }
          ],
          "barpolar": [
           {
            "marker": {
             "line": {
              "color": "white",
              "width": 0.5
             },
             "pattern": {
              "fillmode": "overlay",
              "size": 10,
              "solidity": 0.2
             }
            },
            "type": "barpolar"
           }
          ],
          "carpet": [
           {
            "aaxis": {
             "endlinecolor": "#2a3f5f",
             "gridcolor": "#C8D4E3",
             "linecolor": "#C8D4E3",
             "minorgridcolor": "#C8D4E3",
             "startlinecolor": "#2a3f5f"
            },
            "baxis": {
             "endlinecolor": "#2a3f5f",
             "gridcolor": "#C8D4E3",
             "linecolor": "#C8D4E3",
             "minorgridcolor": "#C8D4E3",
             "startlinecolor": "#2a3f5f"
            },
            "type": "carpet"
           }
          ],
          "choropleth": [
           {
            "colorbar": {
             "outlinewidth": 0,
             "ticks": ""
            },
            "type": "choropleth"
           }
          ],
          "contour": [
           {
            "colorbar": {
             "outlinewidth": 0,
             "ticks": ""
            },
            "colorscale": [
             [
              0,
              "#0d0887"
             ],
             [
              0.1111111111111111,
              "#46039f"
             ],
             [
              0.2222222222222222,
              "#7201a8"
             ],
             [
              0.3333333333333333,
              "#9c179e"
             ],
             [
              0.4444444444444444,
              "#bd3786"
             ],
             [
              0.5555555555555556,
              "#d8576b"
             ],
             [
              0.6666666666666666,
              "#ed7953"
             ],
             [
              0.7777777777777778,
              "#fb9f3a"
             ],
             [
              0.8888888888888888,
              "#fdca26"
             ],
             [
              1,
              "#f0f921"
             ]
            ],
            "type": "contour"
           }
          ],
          "contourcarpet": [
           {
            "colorbar": {
             "outlinewidth": 0,
             "ticks": ""
            },
            "type": "contourcarpet"
           }
          ],
          "heatmap": [
           {
            "colorbar": {
             "outlinewidth": 0,
             "ticks": ""
            },
            "colorscale": [
             [
              0,
              "#0d0887"
             ],
             [
              0.1111111111111111,
              "#46039f"
             ],
             [
              0.2222222222222222,
              "#7201a8"
             ],
             [
              0.3333333333333333,
              "#9c179e"
             ],
             [
              0.4444444444444444,
              "#bd3786"
             ],
             [
              0.5555555555555556,
              "#d8576b"
             ],
             [
              0.6666666666666666,
              "#ed7953"
             ],
             [
              0.7777777777777778,
              "#fb9f3a"
             ],
             [
              0.8888888888888888,
              "#fdca26"
             ],
             [
              1,
              "#f0f921"
             ]
            ],
            "type": "heatmap"
           }
          ],
          "heatmapgl": [
           {
            "colorbar": {
             "outlinewidth": 0,
             "ticks": ""
            },
            "colorscale": [
             [
              0,
              "#0d0887"
             ],
             [
              0.1111111111111111,
              "#46039f"
             ],
             [
              0.2222222222222222,
              "#7201a8"
             ],
             [
              0.3333333333333333,
              "#9c179e"
             ],
             [
              0.4444444444444444,
              "#bd3786"
             ],
             [
              0.5555555555555556,
              "#d8576b"
             ],
             [
              0.6666666666666666,
              "#ed7953"
             ],
             [
              0.7777777777777778,
              "#fb9f3a"
             ],
             [
              0.8888888888888888,
              "#fdca26"
             ],
             [
              1,
              "#f0f921"
             ]
            ],
            "type": "heatmapgl"
           }
          ],
          "histogram": [
           {
            "marker": {
             "pattern": {
              "fillmode": "overlay",
              "size": 10,
              "solidity": 0.2
             }
            },
            "type": "histogram"
           }
          ],
          "histogram2d": [
           {
            "colorbar": {
             "outlinewidth": 0,
             "ticks": ""
            },
            "colorscale": [
             [
              0,
              "#0d0887"
             ],
             [
              0.1111111111111111,
              "#46039f"
             ],
             [
              0.2222222222222222,
              "#7201a8"
             ],
             [
              0.3333333333333333,
              "#9c179e"
             ],
             [
              0.4444444444444444,
              "#bd3786"
             ],
             [
              0.5555555555555556,
              "#d8576b"
             ],
             [
              0.6666666666666666,
              "#ed7953"
             ],
             [
              0.7777777777777778,
              "#fb9f3a"
             ],
             [
              0.8888888888888888,
              "#fdca26"
             ],
             [
              1,
              "#f0f921"
             ]
            ],
            "type": "histogram2d"
           }
          ],
          "histogram2dcontour": [
           {
            "colorbar": {
             "outlinewidth": 0,
             "ticks": ""
            },
            "colorscale": [
             [
              0,
              "#0d0887"
             ],
             [
              0.1111111111111111,
              "#46039f"
             ],
             [
              0.2222222222222222,
              "#7201a8"
             ],
             [
              0.3333333333333333,
              "#9c179e"
             ],
             [
              0.4444444444444444,
              "#bd3786"
             ],
             [
              0.5555555555555556,
              "#d8576b"
             ],
             [
              0.6666666666666666,
              "#ed7953"
             ],
             [
              0.7777777777777778,
              "#fb9f3a"
             ],
             [
              0.8888888888888888,
              "#fdca26"
             ],
             [
              1,
              "#f0f921"
             ]
            ],
            "type": "histogram2dcontour"
           }
          ],
          "mesh3d": [
           {
            "colorbar": {
             "outlinewidth": 0,
             "ticks": ""
            },
            "type": "mesh3d"
           }
          ],
          "parcoords": [
           {
            "line": {
             "colorbar": {
              "outlinewidth": 0,
              "ticks": ""
             }
            },
            "type": "parcoords"
           }
          ],
          "pie": [
           {
            "automargin": true,
            "type": "pie"
           }
          ],
          "scatter": [
           {
            "fillpattern": {
             "fillmode": "overlay",
             "size": 10,
             "solidity": 0.2
            },
            "type": "scatter"
           }
          ],
          "scatter3d": [
           {
            "line": {
             "colorbar": {
              "outlinewidth": 0,
              "ticks": ""
             }
            },
            "marker": {
             "colorbar": {
              "outlinewidth": 0,
              "ticks": ""
             }
            },
            "type": "scatter3d"
           }
          ],
          "scattercarpet": [
           {
            "marker": {
             "colorbar": {
              "outlinewidth": 0,
              "ticks": ""
             }
            },
            "type": "scattercarpet"
           }
          ],
          "scattergeo": [
           {
            "marker": {
             "colorbar": {
              "outlinewidth": 0,
              "ticks": ""
             }
            },
            "type": "scattergeo"
           }
          ],
          "scattergl": [
           {
            "marker": {
             "colorbar": {
              "outlinewidth": 0,
              "ticks": ""
             }
            },
            "type": "scattergl"
           }
          ],
          "scattermapbox": [
           {
            "marker": {
             "colorbar": {
              "outlinewidth": 0,
              "ticks": ""
             }
            },
            "type": "scattermapbox"
           }
          ],
          "scatterpolar": [
           {
            "marker": {
             "colorbar": {
              "outlinewidth": 0,
              "ticks": ""
             }
            },
            "type": "scatterpolar"
           }
          ],
          "scatterpolargl": [
           {
            "marker": {
             "colorbar": {
              "outlinewidth": 0,
              "ticks": ""
             }
            },
            "type": "scatterpolargl"
           }
          ],
          "scatterternary": [
           {
            "marker": {
             "colorbar": {
              "outlinewidth": 0,
              "ticks": ""
             }
            },
            "type": "scatterternary"
           }
          ],
          "surface": [
           {
            "colorbar": {
             "outlinewidth": 0,
             "ticks": ""
            },
            "colorscale": [
             [
              0,
              "#0d0887"
             ],
             [
              0.1111111111111111,
              "#46039f"
             ],
             [
              0.2222222222222222,
              "#7201a8"
             ],
             [
              0.3333333333333333,
              "#9c179e"
             ],
             [
              0.4444444444444444,
              "#bd3786"
             ],
             [
              0.5555555555555556,
              "#d8576b"
             ],
             [
              0.6666666666666666,
              "#ed7953"
             ],
             [
              0.7777777777777778,
              "#fb9f3a"
             ],
             [
              0.8888888888888888,
              "#fdca26"
             ],
             [
              1,
              "#f0f921"
             ]
            ],
            "type": "surface"
           }
          ],
          "table": [
           {
            "cells": {
             "fill": {
              "color": "#EBF0F8"
             },
             "line": {
              "color": "white"
             }
            },
            "header": {
             "fill": {
              "color": "#C8D4E3"
             },
             "line": {
              "color": "white"
             }
            },
            "type": "table"
           }
          ]
         },
         "layout": {
          "annotationdefaults": {
           "arrowcolor": "#2a3f5f",
           "arrowhead": 0,
           "arrowwidth": 1
          },
          "autotypenumbers": "strict",
          "coloraxis": {
           "colorbar": {
            "outlinewidth": 0,
            "ticks": ""
           }
          },
          "colorscale": {
           "diverging": [
            [
             0,
             "#8e0152"
            ],
            [
             0.1,
             "#c51b7d"
            ],
            [
             0.2,
             "#de77ae"
            ],
            [
             0.3,
             "#f1b6da"
            ],
            [
             0.4,
             "#fde0ef"
            ],
            [
             0.5,
             "#f7f7f7"
            ],
            [
             0.6,
             "#e6f5d0"
            ],
            [
             0.7,
             "#b8e186"
            ],
            [
             0.8,
             "#7fbc41"
            ],
            [
             0.9,
             "#4d9221"
            ],
            [
             1,
             "#276419"
            ]
           ],
           "sequential": [
            [
             0,
             "#0d0887"
            ],
            [
             0.1111111111111111,
             "#46039f"
            ],
            [
             0.2222222222222222,
             "#7201a8"
            ],
            [
             0.3333333333333333,
             "#9c179e"
            ],
            [
             0.4444444444444444,
             "#bd3786"
            ],
            [
             0.5555555555555556,
             "#d8576b"
            ],
            [
             0.6666666666666666,
             "#ed7953"
            ],
            [
             0.7777777777777778,
             "#fb9f3a"
            ],
            [
             0.8888888888888888,
             "#fdca26"
            ],
            [
             1,
             "#f0f921"
            ]
           ],
           "sequentialminus": [
            [
             0,
             "#0d0887"
            ],
            [
             0.1111111111111111,
             "#46039f"
            ],
            [
             0.2222222222222222,
             "#7201a8"
            ],
            [
             0.3333333333333333,
             "#9c179e"
            ],
            [
             0.4444444444444444,
             "#bd3786"
            ],
            [
             0.5555555555555556,
             "#d8576b"
            ],
            [
             0.6666666666666666,
             "#ed7953"
            ],
            [
             0.7777777777777778,
             "#fb9f3a"
            ],
            [
             0.8888888888888888,
             "#fdca26"
            ],
            [
             1,
             "#f0f921"
            ]
           ]
          },
          "colorway": [
           "#636efa",
           "#EF553B",
           "#00cc96",
           "#ab63fa",
           "#FFA15A",
           "#19d3f3",
           "#FF6692",
           "#B6E880",
           "#FF97FF",
           "#FECB52"
          ],
          "font": {
           "color": "#2a3f5f"
          },
          "geo": {
           "bgcolor": "white",
           "lakecolor": "white",
           "landcolor": "white",
           "showlakes": true,
           "showland": true,
           "subunitcolor": "#C8D4E3"
          },
          "hoverlabel": {
           "align": "left"
          },
          "hovermode": "closest",
          "mapbox": {
           "style": "light"
          },
          "paper_bgcolor": "white",
          "plot_bgcolor": "white",
          "polar": {
           "angularaxis": {
            "gridcolor": "#EBF0F8",
            "linecolor": "#EBF0F8",
            "ticks": ""
           },
           "bgcolor": "white",
           "radialaxis": {
            "gridcolor": "#EBF0F8",
            "linecolor": "#EBF0F8",
            "ticks": ""
           }
          },
          "scene": {
           "xaxis": {
            "backgroundcolor": "white",
            "gridcolor": "#DFE8F3",
            "gridwidth": 2,
            "linecolor": "#EBF0F8",
            "showbackground": true,
            "ticks": "",
            "zerolinecolor": "#EBF0F8"
           },
           "yaxis": {
            "backgroundcolor": "white",
            "gridcolor": "#DFE8F3",
            "gridwidth": 2,
            "linecolor": "#EBF0F8",
            "showbackground": true,
            "ticks": "",
            "zerolinecolor": "#EBF0F8"
           },
           "zaxis": {
            "backgroundcolor": "white",
            "gridcolor": "#DFE8F3",
            "gridwidth": 2,
            "linecolor": "#EBF0F8",
            "showbackground": true,
            "ticks": "",
            "zerolinecolor": "#EBF0F8"
           }
          },
          "shapedefaults": {
           "line": {
            "color": "#2a3f5f"
           }
          },
          "ternary": {
           "aaxis": {
            "gridcolor": "#DFE8F3",
            "linecolor": "#A2B1C6",
            "ticks": ""
           },
           "baxis": {
            "gridcolor": "#DFE8F3",
            "linecolor": "#A2B1C6",
            "ticks": ""
           },
           "bgcolor": "white",
           "caxis": {
            "gridcolor": "#DFE8F3",
            "linecolor": "#A2B1C6",
            "ticks": ""
           }
          },
          "title": {
           "x": 0.05
          },
          "xaxis": {
           "automargin": true,
           "gridcolor": "#EBF0F8",
           "linecolor": "#EBF0F8",
           "ticks": "",
           "title": {
            "standoff": 15
           },
           "zerolinecolor": "#EBF0F8",
           "zerolinewidth": 2
          },
          "yaxis": {
           "automargin": true,
           "gridcolor": "#EBF0F8",
           "linecolor": "#EBF0F8",
           "ticks": "",
           "title": {
            "standoff": 15
           },
           "zerolinecolor": "#EBF0F8",
           "zerolinewidth": 2
          }
         }
        },
        "title": {
         "text": "Sample of Random Portfolios"
        },
        "width": 850,
        "xaxis": {
         "title": {
          "text": "Annualised Risk (Volatility)"
         }
        },
        "yaxis": {
         "title": {
          "text": "Annualised Return"
         }
        }
       }
      },
      "text/html": [
       "<div>                            <div id=\"ea7866f2-b0af-442c-b93c-904c2fb4ade8\" class=\"plotly-graph-div\" style=\"height:500px; width:850px;\"></div>            <script type=\"text/javascript\">                require([\"plotly\"], function(Plotly) {                    window.PLOTLYENV=window.PLOTLYENV || {};                                    if (document.getElementById(\"ea7866f2-b0af-442c-b93c-904c2fb4ade8\")) {                    Plotly.newPlot(                        \"ea7866f2-b0af-442c-b93c-904c2fb4ade8\",                        [{\"marker\":{\"color\":[0.5419278606432834,0.46546866877050813,0.8055430852974379,1.6138605101738592,0.35638900915186683,-5.7343092196594405,1.5567114946377136,0.4881316036744359,1.0245852677349707,0.2431661424485361,0.6542245293276806,0.8851927295805906,2.8226355220166597,0.283550069266334,0.5261386502451664,0.4147645086596579,0.5106258293929171,-2.302990576470381,0.752452750245455,0.5776170898278615,0.44464955476366436,1.637376173583458,0.5447224958612127,0.5017972601485369,1.0139170001246132,-3.552295068592221,16.18427463979241,1.455092659650392,0.34908689712819235,0.4293865374945829,1.256712061138049,0.344299043242835,0.4949299523337645,4.127112415248403,0.4791683506063335,0.3475930119319576,1.0139101787779567,0.4971631205968651,0.4845782367815886,16.280362423669377,0.8688276490019795,0.5914980437534556,0.3294485137915629,0.3099859264679944,0.6953942929248753,0.6416606292504162,1.2547089055001504,0.3368261065587453,0.6618528238909674,0.32471096646523673,0.5221715765744768,-3.1484068860479604,0.5652540393408285,-2.035046167385144,0.3276984968777877,1.8727255657594792,1.0151931169262522,0.8816433412877505,14.310879232534656,3.8138532717337896,0.5500453405656607,1.6051809843729559,-3.2884590215652305,-1.30716806432394,0.505857261026706,0.36131371155284364,0.39085647893416103,0.7606411943192573,0.5458529862081066,0.4046761134822838,0.5983654063859598,0.6233687677048342,-1.804094951282801,0.4051024004781904,2.492239988581413,0.3892524969797995,0.39749515215099124,1.8872937813798136,0.49570193265548285,0.4432242381897106,-8.882546451404787,31.863176421427774,0.658351631758676,0.3159335069787125,1.5465406248293787,0.763151708082072,0.6354494527570762,0.6883852373351335,2.607702686165098,0.5823111212172224,1.5870315155573882,21.080223801026445,0.325058930127705,0.3342718712722445,-0.7079290893178859,3.3710700422882156,0.29933645538873466,0.878944717206604,0.6792275181967621,0.35081375457007],\"colorbar\":{\"title\":{\"text\":\"Sharpe<br>Ratio\"}},\"colorscale\":[[0.0,\"rgb(103,0,31)\"],[0.1,\"rgb(178,24,43)\"],[0.2,\"rgb(214,96,77)\"],[0.3,\"rgb(244,165,130)\"],[0.4,\"rgb(253,219,199)\"],[0.5,\"rgb(247,247,247)\"],[0.6,\"rgb(209,229,240)\"],[0.7,\"rgb(146,197,222)\"],[0.8,\"rgb(67,147,195)\"],[0.9,\"rgb(33,102,172)\"],[1.0,\"rgb(5,48,97)\"]],\"line\":{\"width\":1},\"showscale\":true,\"size\":7},\"mode\":\"markers\",\"x\":[0.009871874818216966,0.01153092161128044,0.011196319514593316,0.012523614731439127,0.01165143001228133,0.012884373398653653,0.012321966918923299,0.012411830393046719,0.011621743583116944,0.00994150169257337,0.010439826770029118,0.011146389490230205,0.01167837927338391,0.013975552157896158,0.011731776653699271,0.010518243129254699,0.010144441767521288,0.011707412820681214,0.01033872110124654,0.010407355661631356,0.010383397011925933,0.010602975275576493,0.014076815792993686,0.010465949153043596,0.011352800288507556,0.014410999348104652,0.011021188675330976,0.012415982457816773,0.01302584614398746,0.01281566275370806,0.010621598259370724,0.011932735856576558,0.014276332957626205,0.013174792478157739,0.010396702979145972,0.013692087024464691,0.011514332228770513,0.010453149536006238,0.01037977424512705,0.013605666251174592,0.010269136968758821,0.01253149570643778,0.00991918968042608,0.01056312004918989,0.011664458482670982,0.012490833990540538,0.01132623045274754,0.010824509850874187,0.01245602071200888,0.012225211418965943,0.014167890621930322,0.011822775648600457,0.012531981484515156,0.013691987388768555,0.012679443220422259,0.012845032642929162,0.010569819560719555,0.012912701284577326,0.011084399631883885,0.01488692548753812,0.010273616077786788,0.013952346770555984,0.01284017472589735,0.014420960560583678,0.012606582508785939,0.011642752753444303,0.012323154003330667,0.010968308661960389,0.01129439624451045,0.010568461500998057,0.010788136533292627,0.013236067702694749,0.011987603775311342,0.01142450456868199,0.010501933889823565,0.014798075054180359,0.010210515596207906,0.010596344093602135,0.010512184038227077,0.010358334549102899,0.012043037298112735,0.011990102624291461,0.01361201887207578,0.011691163452154776,0.01064979195194944,0.0129423661251099,0.010866329944784507,0.011592290143751297,0.014315702090569643,0.013400594933810213,0.012623439985067658,0.014763635940981675,0.015801613192438835,0.014496960053681469,0.015990672692325295,0.013461408323616662,0.01313486108081855,0.011527833159247788,0.010808765267953475,0.009981843206302363],\"y\":[0.018216215727493282,0.024772712719286327,0.013899094559863547,0.007760035425917927,0.0326930116055188,-0.002246891980376819,0.007915382497892413,0.025427221469816793,0.011342875941217552,0.04088357693414246,0.01595755937301479,0.012592048169568031,0.004137402502835427,0.049287775503130446,0.02229788031773104,0.025359554421001875,0.01986668355492712,-0.005083569572665937,0.013740026995547536,0.018017741934770147,0.023351866432082254,0.006475589083705482,0.02584217817319638,0.020856927656292053,0.011196972027406845,-0.004056813713342723,0.0006809813180155192,0.008532777878764023,0.03731405060214587,0.029846447512038594,0.008451894899259623,0.0346580569733398,0.028845158573063516,0.0031922543300446473,0.021697390835580265,0.03939114583565034,0.01135636318657781,0.021025593216682674,0.02142022372706241,0.0008357102807118011,0.011819532884980073,0.021186030687298567,0.03010846692330748,0.03407612780859752,0.01677387721088346,0.019466417949208212,0.009026978610813871,0.03213678999370051,0.01881992531025427,0.03764951813007142,0.027132634669381647,-0.0037551612852178085,0.022170529730542638,-0.006728096692942135,0.03869240579748813,0.006859004265112326,0.01041163438215804,0.014646173435299482,0.0007745435798720442,0.003903381810168716,0.018677762213604995,0.008692070804717573,-0.003904617525015022,-0.011032216096896552,0.024921224780285186,0.032223390314766676,0.0315285908447394,0.014419819415350725,0.02069127865905722,0.026115852033012893,0.018029345310002807,0.021233126182160673,-0.006644663445672614,0.028201522763618023,0.004213853376055203,0.038016647726085914,0.02568714496505198,0.005614570555017182,0.021206663411443942,0.023370415371257933,-0.0013558090986631557,0.0003762996653474949,0.02067590967415628,0.03700513935339731,0.006886202522565078,0.016959099990270916,0.017100227087517156,0.01683982966954259,0.005489775412864415,0.023012775208205792,0.007954120546014567,0.0007003548007997334,0.04861153387243015,0.043368770451745725,-0.02258795822012747,0.003993215256506306,0.04387992456101246,0.013115538365011942,0.01591332061552656,0.028453397497299762],\"type\":\"scatter\"}],                        {\"template\":{\"data\":{\"barpolar\":[{\"marker\":{\"line\":{\"color\":\"white\",\"width\":0.5},\"pattern\":{\"fillmode\":\"overlay\",\"size\":10,\"solidity\":0.2}},\"type\":\"barpolar\"}],\"bar\":[{\"error_x\":{\"color\":\"#2a3f5f\"},\"error_y\":{\"color\":\"#2a3f5f\"},\"marker\":{\"line\":{\"color\":\"white\",\"width\":0.5},\"pattern\":{\"fillmode\":\"overlay\",\"size\":10,\"solidity\":0.2}},\"type\":\"bar\"}],\"carpet\":[{\"aaxis\":{\"endlinecolor\":\"#2a3f5f\",\"gridcolor\":\"#C8D4E3\",\"linecolor\":\"#C8D4E3\",\"minorgridcolor\":\"#C8D4E3\",\"startlinecolor\":\"#2a3f5f\"},\"baxis\":{\"endlinecolor\":\"#2a3f5f\",\"gridcolor\":\"#C8D4E3\",\"linecolor\":\"#C8D4E3\",\"minorgridcolor\":\"#C8D4E3\",\"startlinecolor\":\"#2a3f5f\"},\"type\":\"carpet\"}],\"choropleth\":[{\"colorbar\":{\"outlinewidth\":0,\"ticks\":\"\"},\"type\":\"choropleth\"}],\"contourcarpet\":[{\"colorbar\":{\"outlinewidth\":0,\"ticks\":\"\"},\"type\":\"contourcarpet\"}],\"contour\":[{\"colorbar\":{\"outlinewidth\":0,\"ticks\":\"\"},\"colorscale\":[[0.0,\"#0d0887\"],[0.1111111111111111,\"#46039f\"],[0.2222222222222222,\"#7201a8\"],[0.3333333333333333,\"#9c179e\"],[0.4444444444444444,\"#bd3786\"],[0.5555555555555556,\"#d8576b\"],[0.6666666666666666,\"#ed7953\"],[0.7777777777777778,\"#fb9f3a\"],[0.8888888888888888,\"#fdca26\"],[1.0,\"#f0f921\"]],\"type\":\"contour\"}],\"heatmapgl\":[{\"colorbar\":{\"outlinewidth\":0,\"ticks\":\"\"},\"colorscale\":[[0.0,\"#0d0887\"],[0.1111111111111111,\"#46039f\"],[0.2222222222222222,\"#7201a8\"],[0.3333333333333333,\"#9c179e\"],[0.4444444444444444,\"#bd3786\"],[0.5555555555555556,\"#d8576b\"],[0.6666666666666666,\"#ed7953\"],[0.7777777777777778,\"#fb9f3a\"],[0.8888888888888888,\"#fdca26\"],[1.0,\"#f0f921\"]],\"type\":\"heatmapgl\"}],\"heatmap\":[{\"colorbar\":{\"outlinewidth\":0,\"ticks\":\"\"},\"colorscale\":[[0.0,\"#0d0887\"],[0.1111111111111111,\"#46039f\"],[0.2222222222222222,\"#7201a8\"],[0.3333333333333333,\"#9c179e\"],[0.4444444444444444,\"#bd3786\"],[0.5555555555555556,\"#d8576b\"],[0.6666666666666666,\"#ed7953\"],[0.7777777777777778,\"#fb9f3a\"],[0.8888888888888888,\"#fdca26\"],[1.0,\"#f0f921\"]],\"type\":\"heatmap\"}],\"histogram2dcontour\":[{\"colorbar\":{\"outlinewidth\":0,\"ticks\":\"\"},\"colorscale\":[[0.0,\"#0d0887\"],[0.1111111111111111,\"#46039f\"],[0.2222222222222222,\"#7201a8\"],[0.3333333333333333,\"#9c179e\"],[0.4444444444444444,\"#bd3786\"],[0.5555555555555556,\"#d8576b\"],[0.6666666666666666,\"#ed7953\"],[0.7777777777777778,\"#fb9f3a\"],[0.8888888888888888,\"#fdca26\"],[1.0,\"#f0f921\"]],\"type\":\"histogram2dcontour\"}],\"histogram2d\":[{\"colorbar\":{\"outlinewidth\":0,\"ticks\":\"\"},\"colorscale\":[[0.0,\"#0d0887\"],[0.1111111111111111,\"#46039f\"],[0.2222222222222222,\"#7201a8\"],[0.3333333333333333,\"#9c179e\"],[0.4444444444444444,\"#bd3786\"],[0.5555555555555556,\"#d8576b\"],[0.6666666666666666,\"#ed7953\"],[0.7777777777777778,\"#fb9f3a\"],[0.8888888888888888,\"#fdca26\"],[1.0,\"#f0f921\"]],\"type\":\"histogram2d\"}],\"histogram\":[{\"marker\":{\"pattern\":{\"fillmode\":\"overlay\",\"size\":10,\"solidity\":0.2}},\"type\":\"histogram\"}],\"mesh3d\":[{\"colorbar\":{\"outlinewidth\":0,\"ticks\":\"\"},\"type\":\"mesh3d\"}],\"parcoords\":[{\"line\":{\"colorbar\":{\"outlinewidth\":0,\"ticks\":\"\"}},\"type\":\"parcoords\"}],\"pie\":[{\"automargin\":true,\"type\":\"pie\"}],\"scatter3d\":[{\"line\":{\"colorbar\":{\"outlinewidth\":0,\"ticks\":\"\"}},\"marker\":{\"colorbar\":{\"outlinewidth\":0,\"ticks\":\"\"}},\"type\":\"scatter3d\"}],\"scattercarpet\":[{\"marker\":{\"colorbar\":{\"outlinewidth\":0,\"ticks\":\"\"}},\"type\":\"scattercarpet\"}],\"scattergeo\":[{\"marker\":{\"colorbar\":{\"outlinewidth\":0,\"ticks\":\"\"}},\"type\":\"scattergeo\"}],\"scattergl\":[{\"marker\":{\"colorbar\":{\"outlinewidth\":0,\"ticks\":\"\"}},\"type\":\"scattergl\"}],\"scattermapbox\":[{\"marker\":{\"colorbar\":{\"outlinewidth\":0,\"ticks\":\"\"}},\"type\":\"scattermapbox\"}],\"scatterpolargl\":[{\"marker\":{\"colorbar\":{\"outlinewidth\":0,\"ticks\":\"\"}},\"type\":\"scatterpolargl\"}],\"scatterpolar\":[{\"marker\":{\"colorbar\":{\"outlinewidth\":0,\"ticks\":\"\"}},\"type\":\"scatterpolar\"}],\"scatter\":[{\"fillpattern\":{\"fillmode\":\"overlay\",\"size\":10,\"solidity\":0.2},\"type\":\"scatter\"}],\"scatterternary\":[{\"marker\":{\"colorbar\":{\"outlinewidth\":0,\"ticks\":\"\"}},\"type\":\"scatterternary\"}],\"surface\":[{\"colorbar\":{\"outlinewidth\":0,\"ticks\":\"\"},\"colorscale\":[[0.0,\"#0d0887\"],[0.1111111111111111,\"#46039f\"],[0.2222222222222222,\"#7201a8\"],[0.3333333333333333,\"#9c179e\"],[0.4444444444444444,\"#bd3786\"],[0.5555555555555556,\"#d8576b\"],[0.6666666666666666,\"#ed7953\"],[0.7777777777777778,\"#fb9f3a\"],[0.8888888888888888,\"#fdca26\"],[1.0,\"#f0f921\"]],\"type\":\"surface\"}],\"table\":[{\"cells\":{\"fill\":{\"color\":\"#EBF0F8\"},\"line\":{\"color\":\"white\"}},\"header\":{\"fill\":{\"color\":\"#C8D4E3\"},\"line\":{\"color\":\"white\"}},\"type\":\"table\"}]},\"layout\":{\"annotationdefaults\":{\"arrowcolor\":\"#2a3f5f\",\"arrowhead\":0,\"arrowwidth\":1},\"autotypenumbers\":\"strict\",\"coloraxis\":{\"colorbar\":{\"outlinewidth\":0,\"ticks\":\"\"}},\"colorscale\":{\"diverging\":[[0,\"#8e0152\"],[0.1,\"#c51b7d\"],[0.2,\"#de77ae\"],[0.3,\"#f1b6da\"],[0.4,\"#fde0ef\"],[0.5,\"#f7f7f7\"],[0.6,\"#e6f5d0\"],[0.7,\"#b8e186\"],[0.8,\"#7fbc41\"],[0.9,\"#4d9221\"],[1,\"#276419\"]],\"sequential\":[[0.0,\"#0d0887\"],[0.1111111111111111,\"#46039f\"],[0.2222222222222222,\"#7201a8\"],[0.3333333333333333,\"#9c179e\"],[0.4444444444444444,\"#bd3786\"],[0.5555555555555556,\"#d8576b\"],[0.6666666666666666,\"#ed7953\"],[0.7777777777777778,\"#fb9f3a\"],[0.8888888888888888,\"#fdca26\"],[1.0,\"#f0f921\"]],\"sequentialminus\":[[0.0,\"#0d0887\"],[0.1111111111111111,\"#46039f\"],[0.2222222222222222,\"#7201a8\"],[0.3333333333333333,\"#9c179e\"],[0.4444444444444444,\"#bd3786\"],[0.5555555555555556,\"#d8576b\"],[0.6666666666666666,\"#ed7953\"],[0.7777777777777778,\"#fb9f3a\"],[0.8888888888888888,\"#fdca26\"],[1.0,\"#f0f921\"]]},\"colorway\":[\"#636efa\",\"#EF553B\",\"#00cc96\",\"#ab63fa\",\"#FFA15A\",\"#19d3f3\",\"#FF6692\",\"#B6E880\",\"#FF97FF\",\"#FECB52\"],\"font\":{\"color\":\"#2a3f5f\"},\"geo\":{\"bgcolor\":\"white\",\"lakecolor\":\"white\",\"landcolor\":\"white\",\"showlakes\":true,\"showland\":true,\"subunitcolor\":\"#C8D4E3\"},\"hoverlabel\":{\"align\":\"left\"},\"hovermode\":\"closest\",\"mapbox\":{\"style\":\"light\"},\"paper_bgcolor\":\"white\",\"plot_bgcolor\":\"white\",\"polar\":{\"angularaxis\":{\"gridcolor\":\"#EBF0F8\",\"linecolor\":\"#EBF0F8\",\"ticks\":\"\"},\"bgcolor\":\"white\",\"radialaxis\":{\"gridcolor\":\"#EBF0F8\",\"linecolor\":\"#EBF0F8\",\"ticks\":\"\"}},\"scene\":{\"xaxis\":{\"backgroundcolor\":\"white\",\"gridcolor\":\"#DFE8F3\",\"gridwidth\":2,\"linecolor\":\"#EBF0F8\",\"showbackground\":true,\"ticks\":\"\",\"zerolinecolor\":\"#EBF0F8\"},\"yaxis\":{\"backgroundcolor\":\"white\",\"gridcolor\":\"#DFE8F3\",\"gridwidth\":2,\"linecolor\":\"#EBF0F8\",\"showbackground\":true,\"ticks\":\"\",\"zerolinecolor\":\"#EBF0F8\"},\"zaxis\":{\"backgroundcolor\":\"white\",\"gridcolor\":\"#DFE8F3\",\"gridwidth\":2,\"linecolor\":\"#EBF0F8\",\"showbackground\":true,\"ticks\":\"\",\"zerolinecolor\":\"#EBF0F8\"}},\"shapedefaults\":{\"line\":{\"color\":\"#2a3f5f\"}},\"ternary\":{\"aaxis\":{\"gridcolor\":\"#DFE8F3\",\"linecolor\":\"#A2B1C6\",\"ticks\":\"\"},\"baxis\":{\"gridcolor\":\"#DFE8F3\",\"linecolor\":\"#A2B1C6\",\"ticks\":\"\"},\"bgcolor\":\"white\",\"caxis\":{\"gridcolor\":\"#DFE8F3\",\"linecolor\":\"#A2B1C6\",\"ticks\":\"\"}},\"title\":{\"x\":0.05},\"xaxis\":{\"automargin\":true,\"gridcolor\":\"#EBF0F8\",\"linecolor\":\"#EBF0F8\",\"ticks\":\"\",\"title\":{\"standoff\":15},\"zerolinecolor\":\"#EBF0F8\",\"zerolinewidth\":2},\"yaxis\":{\"automargin\":true,\"gridcolor\":\"#EBF0F8\",\"linecolor\":\"#EBF0F8\",\"ticks\":\"\",\"title\":{\"standoff\":15},\"zerolinecolor\":\"#EBF0F8\",\"zerolinewidth\":2}}},\"xaxis\":{\"title\":{\"text\":\"Annualised Risk (Volatility)\"}},\"yaxis\":{\"title\":{\"text\":\"Annualised Return\"}},\"title\":{\"text\":\"Sample of Random Portfolios\"},\"width\":850,\"height\":500,\"coloraxis\":{\"colorbar\":{\"title\":{\"text\":\"Sharpe Ratio\"}}}},                        {\"responsive\": true}                    ).then(function(){\n",
       "                            \n",
       "var gd = document.getElementById('ea7866f2-b0af-442c-b93c-904c2fb4ade8');\n",
       "var x = new MutationObserver(function (mutations, observer) {{\n",
       "        var display = window.getComputedStyle(gd).display;\n",
       "        if (!display || display === 'none') {{\n",
       "            console.log([gd, 'removed!']);\n",
       "            Plotly.purge(gd);\n",
       "            observer.disconnect();\n",
       "        }}\n",
       "}});\n",
       "\n",
       "// Listen for the removal of the full notebook cells\n",
       "var notebookContainer = gd.closest('#notebook-container');\n",
       "if (notebookContainer) {{\n",
       "    x.observe(notebookContainer, {childList: true});\n",
       "}}\n",
       "\n",
       "// Listen for the clearing of the current output cell\n",
       "var outputEl = gd.closest('.output');\n",
       "if (outputEl) {{\n",
       "    x.observe(outputEl, {childList: true});\n",
       "}}\n",
       "\n",
       "                        })                };                });            </script>        </div>"
      ]
     },
     "metadata": {},
     "output_type": "display_data"
    }
   ],
   "source": [
    "mean_variance_pairs = np.array(df)\n",
    "\n",
    "risk_free_rate=0 #-- Include risk free rate here\n",
    "\n",
    "fig = go.Figure()\n",
    "fig.add_trace(go.Scatter(x=mean_variance_pairs[:,0], y=mean_variance_pairs[:,1], \n",
    "                      marker=dict(color=(mean_variance_pairs[:,0]-risk_free_rate)/(mean_variance_pairs[:,1]), \n",
    "                                  showscale=True, \n",
    "                                  size=7,\n",
    "                                  line=dict(width=1),\n",
    "                                  colorscale=\"RdBu\",\n",
    "                                  colorbar=dict(title=\"Sharpe<br>Ratio\")\n",
    "                                 ), \n",
    "                      mode='markers'))\n",
    "fig.update_layout(template='plotly_white',\n",
    "                  xaxis=dict(title='Annualised Risk (Volatility)'),\n",
    "                  yaxis=dict(title='Annualised Return'),\n",
    "                  title='Sample of Random Portfolios',\n",
    "                  width=850,\n",
    "                  height=500)\n",
    "# fig.update_xaxes(range=[0.18, 0.32])\n",
    "# fig.update_yaxes(range=[0.02,0.27])\n",
    "fig.update_layout(coloraxis_colorbar=dict(title=\"Sharpe Ratio\"))"
   ]
  },
  {
   "cell_type": "markdown",
   "id": "156e4ce3",
   "metadata": {},
   "source": [
    "### Sample only from efficient frontier"
   ]
  },
  {
   "cell_type": "code",
   "execution_count": 27,
   "id": "6ffcdbff",
   "metadata": {},
   "outputs": [
    {
     "name": "stderr",
     "output_type": "stream",
     "text": [
      "100%|██████████████████████████████████████████████████████████████████████████| 10000/10000 [00:08<00:00, 1125.67it/s]\n"
     ]
    }
   ],
   "source": [
    "#-- Create random portfolio weights and indexes\n",
    "#- How many assests in the portfolio\n",
    "n_assets = len(stock_list)\n",
    "\n",
    "mean_variance_pairs = []\n",
    "weights_list=[]\n",
    "tickers_list=[]\n",
    "mus= daily_return_data.mean()\n",
    "for i in tqdm(range(10000)):\n",
    "    next_i = False\n",
    "    while True:\n",
    "        #- Choose assets randomly without replacement\n",
    "        assets = np.random.choice(list(daily_return_data.columns), n_assets, replace=False)\n",
    "        #- Choose weights randomly ensuring they sum to one\n",
    "        weights = np.random.rand(n_assets)\n",
    "        weights = weights/sum(weights)\n",
    "\n",
    "        #-- Loop over asset pairs and compute portfolio return and variance\n",
    "        portfolio_E_Variance = 0\n",
    "        portfolio_E_Return = 0\n",
    "        for i in range(len(assets)):\n",
    "            portfolio_E_Return += weights[i] * mus.loc[assets[i]]\n",
    "            for j in range(len(assets)):\n",
    "                portfolio_E_Variance += weights[i] * weights[j] * cov.loc[assets[i], assets[j]]\n",
    "\n",
    "        #-- Skip over dominated portfolios\n",
    "        for R,V in mean_variance_pairs:\n",
    "            if (R > portfolio_E_Return) & (V < portfolio_E_Variance):\n",
    "                next_i = True\n",
    "                break\n",
    "        if next_i:\n",
    "            break\n",
    "\n",
    "        #-- Add the mean/variance pairs to a list for plotting\n",
    "        mean_variance_pairs.append([portfolio_E_Return, portfolio_E_Variance])\n",
    "        weights_list.append(weights)\n",
    "        tickers_list.append(assets)\n",
    "        break"
   ]
  },
  {
   "cell_type": "code",
   "execution_count": 23,
   "id": "d1638f65",
   "metadata": {},
   "outputs": [
    {
     "data": {
      "text/plain": [
       "70"
      ]
     },
     "execution_count": 23,
     "metadata": {},
     "output_type": "execute_result"
    }
   ],
   "source": [
    "len(mean_variance_pairs)"
   ]
  },
  {
   "cell_type": "code",
   "execution_count": 28,
   "id": "bd1eef4b",
   "metadata": {},
   "outputs": [
    {
     "data": {
      "application/vnd.plotly.v1+json": {
       "config": {
        "plotlyServerURL": "https://plot.ly"
       },
       "data": [
        {
         "marker": {
          "color": [
           0.023739280594304957,
           0.012569601906696521,
           0.022559778183522464,
           0.030198329586362812,
           0.02531513562787815,
           0.03063723720340184,
           0.026580995316220095,
           0.015617311013605589,
           0.026659917071125448,
           0.028643763925257183,
           0.03893160718100885,
           0.03354660103356347,
           0.033434966130202914,
           0.02654900814702186,
           0.035847635034547444,
           0.03542893784100018,
           0.017186282919715495,
           0.03947340197480768,
           0.0432619302499796,
           0.03486460650268661,
           0.01911321681348487,
           0.02182394747641442,
           0.036644731507377175,
           0.025933744052867157,
           0.03600803264395774,
           0.04017264787401312,
           0.038189140355132344,
           0.03378874305932193,
           0.04224841404156987,
           0.04354396360759409,
           0.03819776712640351,
           0.03975011277252254,
           0.03962622258937848,
           0.0334638831515908,
           0.03796118817382895,
           0.0336017328991052,
           0.02682152505844086,
           0.03792405070798641,
           0.0401527523101018,
           0.038213223126414,
           0.03673941243874964,
           0.026741108829693595,
           0.03449642616557994,
           0.03422763680377545,
           0.02773621585127375,
           0.0385671811646385,
           0.03948214693582895,
           0.044275989933985634,
           0.04013651967151334,
           0.03669236639959207,
           0.04024842601776009,
           0.040231844861182184,
           0.03971878963861428,
           0.03831001775678112,
           0.043043307996424536,
           0.02440279728346136,
           0.033745552338519544,
           0.027146025475032542,
           0.040353280593715395
          ],
          "colorbar": {
           "title": {
            "text": "Sharpe<br>Ratio"
           }
          },
          "colorscale": [
           [
            0,
            "rgb(103,0,31)"
           ],
           [
            0.1,
            "rgb(178,24,43)"
           ],
           [
            0.2,
            "rgb(214,96,77)"
           ],
           [
            0.3,
            "rgb(244,165,130)"
           ],
           [
            0.4,
            "rgb(253,219,199)"
           ],
           [
            0.5,
            "rgb(247,247,247)"
           ],
           [
            0.6,
            "rgb(209,229,240)"
           ],
           [
            0.7,
            "rgb(146,197,222)"
           ],
           [
            0.8,
            "rgb(67,147,195)"
           ],
           [
            0.9,
            "rgb(33,102,172)"
           ],
           [
            1,
            "rgb(5,48,97)"
           ]
          ],
          "line": {
           "width": 1
          },
          "showscale": true,
          "size": 7
         },
         "mode": "markers",
         "text": [
          "['TEVA' 'F' 'QQQ' 'ABEV' 'GOOG' 'AAPL']<br>[0.17 0.03 0.19 0.2  0.19 0.22]",
          "['TEVA' 'GOOG' 'AAPL' 'F' 'QQQ' 'ABEV']<br>[0.14 0.06 0.23 0.33 0.15 0.1 ]",
          "['AAPL' 'ABEV' 'GOOG' 'TEVA' 'QQQ' 'F']<br>[0.2  0.06 0.13 0.14 0.24 0.24]",
          "['TEVA' 'ABEV' 'GOOG' 'QQQ' 'F' 'AAPL']<br>[0.28 0.03 0.22 0.08 0.08 0.32]",
          "['ABEV' 'GOOG' 'QQQ' 'TEVA' 'F' 'AAPL']<br>[0.09 0.17 0.23 0.19 0.13 0.19]",
          "['F' 'QQQ' 'TEVA' 'GOOG' 'AAPL' 'ABEV']<br>[0.06 0.13 0.26 0.32 0.2  0.03]",
          "['ABEV' 'AAPL' 'GOOG' 'TEVA' 'QQQ' 'F']<br>[0.09 0.16 0.34 0.23 0.1  0.07]",
          "['QQQ' 'F' 'GOOG' 'ABEV' 'AAPL' 'TEVA']<br>[0.19 0.23 0.1  0.11 0.17 0.21]",
          "['GOOG' 'F' 'TEVA' 'ABEV' 'AAPL' 'QQQ']<br>[0.2  0.13 0.25 0.04 0.22 0.17]",
          "['AAPL' 'ABEV' 'TEVA' 'GOOG' 'QQQ' 'F']<br>[0.19 0.03 0.22 0.18 0.25 0.13]",
          "['GOOG' 'QQQ' 'ABEV' 'TEVA' 'AAPL' 'F']<br>[0.29 0.3  0.04 0.15 0.22 0.  ]",
          "['AAPL' 'ABEV' 'QQQ' 'GOOG' 'F' 'TEVA']<br>[0.18 0.09 0.45 0.11 0.04 0.13]",
          "['ABEV' 'GOOG' 'AAPL' 'F' 'QQQ' 'TEVA']<br>[0.03 0.23 0.26 0.14 0.24 0.1 ]",
          "['QQQ' 'F' 'GOOG' 'AAPL' 'TEVA' 'ABEV']<br>[0.42 0.16 0.01 0.21 0.15 0.06]",
          "['QQQ' 'ABEV' 'GOOG' 'TEVA' 'F' 'AAPL']<br>[0.26 0.04 0.25 0.09 0.11 0.26]",
          "['TEVA' 'F' 'GOOG' 'QQQ' 'AAPL' 'ABEV']<br>[0.18 0.03 0.25 0.29 0.21 0.05]",
          "['TEVA' 'GOOG' 'QQQ' 'AAPL' 'F' 'ABEV']<br>[0.13 0.09 0.35 0.09 0.15 0.18]",
          "['AAPL' 'F' 'QQQ' 'GOOG' 'TEVA' 'ABEV']<br>[0.27 0.01 0.16 0.45 0.03 0.08]",
          "['TEVA' 'ABEV' 'AAPL' 'GOOG' 'F' 'QQQ']<br>[0.01 0.01 0.3  0.25 0.05 0.38]",
          "['AAPL' 'QQQ' 'F' 'TEVA' 'GOOG' 'ABEV']<br>[0.14 0.42 0.08 0.04 0.24 0.08]",
          "['TEVA' 'GOOG' 'AAPL' 'QQQ' 'ABEV' 'F']<br>[0.08 0.09 0.11 0.38 0.16 0.18]",
          "['TEVA' 'QQQ' 'ABEV' 'F' 'GOOG' 'AAPL']<br>[0.12 0.44 0.08 0.2  0.12 0.04]",
          "['AAPL' 'ABEV' 'TEVA' 'GOOG' 'QQQ' 'F']<br>[0.32 0.1  0.04 0.14 0.36 0.05]",
          "['TEVA' 'GOOG' 'QQQ' 'AAPL' 'ABEV' 'F']<br>[0.09 0.12 0.43 0.11 0.13 0.11]",
          "['TEVA' 'ABEV' 'QQQ' 'GOOG' 'AAPL' 'F']<br>[0.19 0.05 0.34 0.18 0.22 0.01]",
          "['AAPL' 'QQQ' 'ABEV' 'GOOG' 'TEVA' 'F']<br>[0.32 0.2  0.01 0.3  0.13 0.04]",
          "['ABEV' 'QQQ' 'TEVA' 'GOOG' 'AAPL' 'F']<br>[0.01 0.3  0.14 0.29 0.21 0.06]",
          "['GOOG' 'AAPL' 'QQQ' 'ABEV' 'F' 'TEVA']<br>[0.15 0.11 0.51 0.11 0.02 0.09]",
          "['F' 'TEVA' 'ABEV' 'GOOG' 'QQQ' 'AAPL']<br>[0.04 0.   0.03 0.39 0.27 0.27]",
          "['AAPL' 'GOOG' 'ABEV' 'F' 'TEVA' 'QQQ']<br>[0.31 0.4  0.01 0.03 0.02 0.23]",
          "['GOOG' 'F' 'ABEV' 'TEVA' 'AAPL' 'QQQ']<br>[0.17 0.04 0.02 0.15 0.27 0.36]",
          "['ABEV' 'QQQ' 'AAPL' 'GOOG' 'F' 'TEVA']<br>[0.03 0.24 0.28 0.3  0.01 0.15]",
          "['TEVA' 'GOOG' 'QQQ' 'ABEV' 'F' 'AAPL']<br>[0.06 0.29 0.37 0.05 0.03 0.2 ]",
          "['GOOG' 'ABEV' 'F' 'TEVA' 'QQQ' 'AAPL']<br>[0.19 0.03 0.04 0.22 0.37 0.15]",
          "['F' 'AAPL' 'QQQ' 'GOOG' 'TEVA' 'ABEV']<br>[0.03 0.2  0.31 0.27 0.16 0.02]",
          "['AAPL' 'TEVA' 'F' 'GOOG' 'QQQ' 'ABEV']<br>[0.15 0.14 0.02 0.23 0.36 0.09]",
          "['AAPL' 'TEVA' 'F' 'QQQ' 'ABEV' 'GOOG']<br>[0.21 0.17 0.14 0.4  0.06 0.02]",
          "['ABEV' 'QQQ' 'AAPL' 'F' 'GOOG' 'TEVA']<br>[0.08 0.35 0.21 0.02 0.28 0.07]",
          "['QQQ' 'ABEV' 'GOOG' 'F' 'TEVA' 'AAPL']<br>[0.36 0.04 0.18 0.06 0.02 0.33]",
          "['F' 'AAPL' 'ABEV' 'QQQ' 'TEVA' 'GOOG']<br>[0.03 0.31 0.06 0.31 0.09 0.19]",
          "['AAPL' 'TEVA' 'ABEV' 'QQQ' 'F' 'GOOG']<br>[0.27 0.06 0.09 0.43 0.04 0.11]",
          "['ABEV' 'GOOG' 'QQQ' 'TEVA' 'AAPL' 'F']<br>[0.04 0.09 0.37 0.14 0.17 0.19]",
          "['GOOG' 'QQQ' 'TEVA' 'ABEV' 'AAPL' 'F']<br>[0.2  0.35 0.14 0.09 0.2  0.02]",
          "['TEVA' 'AAPL' 'QQQ' 'GOOG' 'ABEV' 'F']<br>[0.12 0.19 0.34 0.21 0.06 0.08]",
          "['QQQ' 'F' 'TEVA' 'AAPL' 'ABEV' 'GOOG']<br>[0.48 0.17 0.12 0.16 0.05 0.04]",
          "['F' 'QQQ' 'ABEV' 'GOOG' 'TEVA' 'AAPL']<br>[0.   0.33 0.03 0.17 0.18 0.28]",
          "['ABEV' 'QQQ' 'F' 'TEVA' 'AAPL' 'GOOG']<br>[0.04 0.31 0.03 0.1  0.25 0.27]",
          "['AAPL' 'TEVA' 'QQQ' 'F' 'GOOG' 'ABEV']<br>[0.34 0.06 0.26 0.02 0.32 0.  ]",
          "['TEVA' 'ABEV' 'AAPL' 'GOOG' 'F' 'QQQ']<br>[0.06 0.03 0.22 0.2  0.05 0.44]",
          "['GOOG' 'AAPL' 'F' 'QQQ' 'ABEV' 'TEVA']<br>[0.16 0.16 0.04 0.45 0.02 0.17]",
          "['AAPL' 'F' 'QQQ' 'GOOG' 'ABEV' 'TEVA']<br>[0.23 0.03 0.46 0.2  0.07 0.01]",
          "['F' 'AAPL' 'TEVA' 'ABEV' 'QQQ' 'GOOG']<br>[0.07 0.31 0.09 0.01 0.22 0.31]",
          "['TEVA' 'AAPL' 'QQQ' 'GOOG' 'ABEV' 'F']<br>[0.15 0.3  0.24 0.27 0.04 0.  ]",
          "['ABEV' 'QQQ' 'F' 'GOOG' 'AAPL' 'TEVA']<br>[0.   0.44 0.08 0.09 0.27 0.12]",
          "['F' 'GOOG' 'ABEV' 'TEVA' 'AAPL' 'QQQ']<br>[0.04 0.31 0.01 0.04 0.31 0.29]",
          "['QQQ' 'AAPL' 'ABEV' 'GOOG' 'F' 'TEVA']<br>[0.46 0.03 0.08 0.14 0.15 0.14]",
          "['GOOG' 'TEVA' 'F' 'QQQ' 'ABEV' 'AAPL']<br>[0.12 0.18 0.07 0.39 0.03 0.21]",
          "['AAPL' 'QQQ' 'ABEV' 'TEVA' 'F' 'GOOG']<br>[0.09 0.46 0.09 0.18 0.08 0.1 ]",
          "['F' 'QQQ' 'GOOG' 'ABEV' 'TEVA' 'AAPL']<br>[0.03 0.3  0.24 0.01 0.14 0.28]"
         ],
         "type": "scatter",
         "x": [
          0.01030844250292182,
          0.01028092516121051,
          0.010051784829088037,
          0.010725065532360502,
          0.010043500080467381,
          0.010676172774902487,
          0.010550868785776563,
          0.01003763110487733,
          0.010326452891494866,
          0.01017616526604647,
          0.010518808723116807,
          0.00995902142291837,
          0.010330235244363826,
          0.009938116237427169,
          0.010415903714728825,
          0.010333723497093805,
          0.009922260526067567,
          0.011323994699547077,
          0.01083080380275312,
          0.010250640157887687,
          0.009919250627964553,
          0.009855748382448837,
          0.010495481907728395,
          0.009886830263238439,
          0.010263418362153727,
          0.010779641046402954,
          0.010481010954488555,
          0.009980618484119793,
          0.01119579612856801,
          0.011316557717524562,
          0.01030088799050041,
          0.010673559718706956,
          0.010511431377789137,
          0.01019219710235604,
          0.010424154010354974,
          0.010171996822396338,
          0.009953391021690907,
          0.010445304826996458,
          0.010668633416772244,
          0.010439373451714752,
          0.01027416806838343,
          0.00994325484052673,
          0.010158416299640793,
          0.010136323906484572,
          0.009860503930868533,
          0.010412369283799256,
          0.010500100055361884,
          0.011080230057759587,
          0.01032405687064551,
          0.010090810816853743,
          0.010489733731960315,
          0.010791404239557701,
          0.010641253545815108,
          0.010257008021406966,
          0.010969023894540955,
          0.009849857589033369,
          0.010062073311696632,
          0.00982084906867482,
          0.010557460712094263
         ],
         "y": [
          0.0002447150090671204,
          0.00012922713650895587,
          0.0002267660360927224,
          0.0003238790637815622,
          0.0002542525667156369,
          0.00032708843772918836,
          0.00028045259377677963,
          0.00015676080680471078,
          0.0002753023777261367,
          0.00029148367554503705,
          0.0004095141292205528,
          0.00033409131835935413,
          0.000345391065512333,
          0.0002638471289535041,
          0.00037338551492058594,
          0.00036611284744461945,
          0.00017052677660412232,
          0.00044699659473581324,
          0.0004685614786659192,
          0.00035738453550539153,
          0.00018958878787958243,
          0.00021509133503931982,
          0.0003846041165492418,
          0.0002564025255409669,
          0.00036956550342302666,
          0.0004330467239654042,
          0.000400260798404643,
          0.00033723255353304283,
          0.0004730046303647463,
          0.0004927677774151276,
          0.00039347092065630134,
          0.0004242752025028555,
          0.0004165283195092496,
          0.00034107049289122486,
          0.00039571327194005886,
          0.0003417967202767086,
          0.0002669651267047429,
          0.00039612826991938896,
          0.00042837499507093096,
          0.00039892210701033854,
          0.00037746689812937054,
          0.00026589365981190293,
          0.0003504290578397824,
          0.0003469424131965803,
          0.00027349306542890294,
          0.00040157573252140317,
          0.0004145664932267036,
          0.0004905881545036085,
          0.00041437171167848597,
          0.0003702557277609645,
          0.0004221952720568072,
          0.0004341581012001891,
          0.00042265771107738854,
          0.00039294615943154726,
          0.00047214307391286645,
          0.00024036407801614475,
          0.00033955022157387935,
          0.0002665970190046963,
          0.0004260281744722661
         ]
        }
       ],
       "layout": {
        "coloraxis": {
         "colorbar": {
          "title": {
           "text": "Sharpe Ratio"
          }
         }
        },
        "height": 500,
        "template": {
         "data": {
          "bar": [
           {
            "error_x": {
             "color": "#2a3f5f"
            },
            "error_y": {
             "color": "#2a3f5f"
            },
            "marker": {
             "line": {
              "color": "white",
              "width": 0.5
             },
             "pattern": {
              "fillmode": "overlay",
              "size": 10,
              "solidity": 0.2
             }
            },
            "type": "bar"
           }
          ],
          "barpolar": [
           {
            "marker": {
             "line": {
              "color": "white",
              "width": 0.5
             },
             "pattern": {
              "fillmode": "overlay",
              "size": 10,
              "solidity": 0.2
             }
            },
            "type": "barpolar"
           }
          ],
          "carpet": [
           {
            "aaxis": {
             "endlinecolor": "#2a3f5f",
             "gridcolor": "#C8D4E3",
             "linecolor": "#C8D4E3",
             "minorgridcolor": "#C8D4E3",
             "startlinecolor": "#2a3f5f"
            },
            "baxis": {
             "endlinecolor": "#2a3f5f",
             "gridcolor": "#C8D4E3",
             "linecolor": "#C8D4E3",
             "minorgridcolor": "#C8D4E3",
             "startlinecolor": "#2a3f5f"
            },
            "type": "carpet"
           }
          ],
          "choropleth": [
           {
            "colorbar": {
             "outlinewidth": 0,
             "ticks": ""
            },
            "type": "choropleth"
           }
          ],
          "contour": [
           {
            "colorbar": {
             "outlinewidth": 0,
             "ticks": ""
            },
            "colorscale": [
             [
              0,
              "#0d0887"
             ],
             [
              0.1111111111111111,
              "#46039f"
             ],
             [
              0.2222222222222222,
              "#7201a8"
             ],
             [
              0.3333333333333333,
              "#9c179e"
             ],
             [
              0.4444444444444444,
              "#bd3786"
             ],
             [
              0.5555555555555556,
              "#d8576b"
             ],
             [
              0.6666666666666666,
              "#ed7953"
             ],
             [
              0.7777777777777778,
              "#fb9f3a"
             ],
             [
              0.8888888888888888,
              "#fdca26"
             ],
             [
              1,
              "#f0f921"
             ]
            ],
            "type": "contour"
           }
          ],
          "contourcarpet": [
           {
            "colorbar": {
             "outlinewidth": 0,
             "ticks": ""
            },
            "type": "contourcarpet"
           }
          ],
          "heatmap": [
           {
            "colorbar": {
             "outlinewidth": 0,
             "ticks": ""
            },
            "colorscale": [
             [
              0,
              "#0d0887"
             ],
             [
              0.1111111111111111,
              "#46039f"
             ],
             [
              0.2222222222222222,
              "#7201a8"
             ],
             [
              0.3333333333333333,
              "#9c179e"
             ],
             [
              0.4444444444444444,
              "#bd3786"
             ],
             [
              0.5555555555555556,
              "#d8576b"
             ],
             [
              0.6666666666666666,
              "#ed7953"
             ],
             [
              0.7777777777777778,
              "#fb9f3a"
             ],
             [
              0.8888888888888888,
              "#fdca26"
             ],
             [
              1,
              "#f0f921"
             ]
            ],
            "type": "heatmap"
           }
          ],
          "heatmapgl": [
           {
            "colorbar": {
             "outlinewidth": 0,
             "ticks": ""
            },
            "colorscale": [
             [
              0,
              "#0d0887"
             ],
             [
              0.1111111111111111,
              "#46039f"
             ],
             [
              0.2222222222222222,
              "#7201a8"
             ],
             [
              0.3333333333333333,
              "#9c179e"
             ],
             [
              0.4444444444444444,
              "#bd3786"
             ],
             [
              0.5555555555555556,
              "#d8576b"
             ],
             [
              0.6666666666666666,
              "#ed7953"
             ],
             [
              0.7777777777777778,
              "#fb9f3a"
             ],
             [
              0.8888888888888888,
              "#fdca26"
             ],
             [
              1,
              "#f0f921"
             ]
            ],
            "type": "heatmapgl"
           }
          ],
          "histogram": [
           {
            "marker": {
             "pattern": {
              "fillmode": "overlay",
              "size": 10,
              "solidity": 0.2
             }
            },
            "type": "histogram"
           }
          ],
          "histogram2d": [
           {
            "colorbar": {
             "outlinewidth": 0,
             "ticks": ""
            },
            "colorscale": [
             [
              0,
              "#0d0887"
             ],
             [
              0.1111111111111111,
              "#46039f"
             ],
             [
              0.2222222222222222,
              "#7201a8"
             ],
             [
              0.3333333333333333,
              "#9c179e"
             ],
             [
              0.4444444444444444,
              "#bd3786"
             ],
             [
              0.5555555555555556,
              "#d8576b"
             ],
             [
              0.6666666666666666,
              "#ed7953"
             ],
             [
              0.7777777777777778,
              "#fb9f3a"
             ],
             [
              0.8888888888888888,
              "#fdca26"
             ],
             [
              1,
              "#f0f921"
             ]
            ],
            "type": "histogram2d"
           }
          ],
          "histogram2dcontour": [
           {
            "colorbar": {
             "outlinewidth": 0,
             "ticks": ""
            },
            "colorscale": [
             [
              0,
              "#0d0887"
             ],
             [
              0.1111111111111111,
              "#46039f"
             ],
             [
              0.2222222222222222,
              "#7201a8"
             ],
             [
              0.3333333333333333,
              "#9c179e"
             ],
             [
              0.4444444444444444,
              "#bd3786"
             ],
             [
              0.5555555555555556,
              "#d8576b"
             ],
             [
              0.6666666666666666,
              "#ed7953"
             ],
             [
              0.7777777777777778,
              "#fb9f3a"
             ],
             [
              0.8888888888888888,
              "#fdca26"
             ],
             [
              1,
              "#f0f921"
             ]
            ],
            "type": "histogram2dcontour"
           }
          ],
          "mesh3d": [
           {
            "colorbar": {
             "outlinewidth": 0,
             "ticks": ""
            },
            "type": "mesh3d"
           }
          ],
          "parcoords": [
           {
            "line": {
             "colorbar": {
              "outlinewidth": 0,
              "ticks": ""
             }
            },
            "type": "parcoords"
           }
          ],
          "pie": [
           {
            "automargin": true,
            "type": "pie"
           }
          ],
          "scatter": [
           {
            "fillpattern": {
             "fillmode": "overlay",
             "size": 10,
             "solidity": 0.2
            },
            "type": "scatter"
           }
          ],
          "scatter3d": [
           {
            "line": {
             "colorbar": {
              "outlinewidth": 0,
              "ticks": ""
             }
            },
            "marker": {
             "colorbar": {
              "outlinewidth": 0,
              "ticks": ""
             }
            },
            "type": "scatter3d"
           }
          ],
          "scattercarpet": [
           {
            "marker": {
             "colorbar": {
              "outlinewidth": 0,
              "ticks": ""
             }
            },
            "type": "scattercarpet"
           }
          ],
          "scattergeo": [
           {
            "marker": {
             "colorbar": {
              "outlinewidth": 0,
              "ticks": ""
             }
            },
            "type": "scattergeo"
           }
          ],
          "scattergl": [
           {
            "marker": {
             "colorbar": {
              "outlinewidth": 0,
              "ticks": ""
             }
            },
            "type": "scattergl"
           }
          ],
          "scattermapbox": [
           {
            "marker": {
             "colorbar": {
              "outlinewidth": 0,
              "ticks": ""
             }
            },
            "type": "scattermapbox"
           }
          ],
          "scatterpolar": [
           {
            "marker": {
             "colorbar": {
              "outlinewidth": 0,
              "ticks": ""
             }
            },
            "type": "scatterpolar"
           }
          ],
          "scatterpolargl": [
           {
            "marker": {
             "colorbar": {
              "outlinewidth": 0,
              "ticks": ""
             }
            },
            "type": "scatterpolargl"
           }
          ],
          "scatterternary": [
           {
            "marker": {
             "colorbar": {
              "outlinewidth": 0,
              "ticks": ""
             }
            },
            "type": "scatterternary"
           }
          ],
          "surface": [
           {
            "colorbar": {
             "outlinewidth": 0,
             "ticks": ""
            },
            "colorscale": [
             [
              0,
              "#0d0887"
             ],
             [
              0.1111111111111111,
              "#46039f"
             ],
             [
              0.2222222222222222,
              "#7201a8"
             ],
             [
              0.3333333333333333,
              "#9c179e"
             ],
             [
              0.4444444444444444,
              "#bd3786"
             ],
             [
              0.5555555555555556,
              "#d8576b"
             ],
             [
              0.6666666666666666,
              "#ed7953"
             ],
             [
              0.7777777777777778,
              "#fb9f3a"
             ],
             [
              0.8888888888888888,
              "#fdca26"
             ],
             [
              1,
              "#f0f921"
             ]
            ],
            "type": "surface"
           }
          ],
          "table": [
           {
            "cells": {
             "fill": {
              "color": "#EBF0F8"
             },
             "line": {
              "color": "white"
             }
            },
            "header": {
             "fill": {
              "color": "#C8D4E3"
             },
             "line": {
              "color": "white"
             }
            },
            "type": "table"
           }
          ]
         },
         "layout": {
          "annotationdefaults": {
           "arrowcolor": "#2a3f5f",
           "arrowhead": 0,
           "arrowwidth": 1
          },
          "autotypenumbers": "strict",
          "coloraxis": {
           "colorbar": {
            "outlinewidth": 0,
            "ticks": ""
           }
          },
          "colorscale": {
           "diverging": [
            [
             0,
             "#8e0152"
            ],
            [
             0.1,
             "#c51b7d"
            ],
            [
             0.2,
             "#de77ae"
            ],
            [
             0.3,
             "#f1b6da"
            ],
            [
             0.4,
             "#fde0ef"
            ],
            [
             0.5,
             "#f7f7f7"
            ],
            [
             0.6,
             "#e6f5d0"
            ],
            [
             0.7,
             "#b8e186"
            ],
            [
             0.8,
             "#7fbc41"
            ],
            [
             0.9,
             "#4d9221"
            ],
            [
             1,
             "#276419"
            ]
           ],
           "sequential": [
            [
             0,
             "#0d0887"
            ],
            [
             0.1111111111111111,
             "#46039f"
            ],
            [
             0.2222222222222222,
             "#7201a8"
            ],
            [
             0.3333333333333333,
             "#9c179e"
            ],
            [
             0.4444444444444444,
             "#bd3786"
            ],
            [
             0.5555555555555556,
             "#d8576b"
            ],
            [
             0.6666666666666666,
             "#ed7953"
            ],
            [
             0.7777777777777778,
             "#fb9f3a"
            ],
            [
             0.8888888888888888,
             "#fdca26"
            ],
            [
             1,
             "#f0f921"
            ]
           ],
           "sequentialminus": [
            [
             0,
             "#0d0887"
            ],
            [
             0.1111111111111111,
             "#46039f"
            ],
            [
             0.2222222222222222,
             "#7201a8"
            ],
            [
             0.3333333333333333,
             "#9c179e"
            ],
            [
             0.4444444444444444,
             "#bd3786"
            ],
            [
             0.5555555555555556,
             "#d8576b"
            ],
            [
             0.6666666666666666,
             "#ed7953"
            ],
            [
             0.7777777777777778,
             "#fb9f3a"
            ],
            [
             0.8888888888888888,
             "#fdca26"
            ],
            [
             1,
             "#f0f921"
            ]
           ]
          },
          "colorway": [
           "#636efa",
           "#EF553B",
           "#00cc96",
           "#ab63fa",
           "#FFA15A",
           "#19d3f3",
           "#FF6692",
           "#B6E880",
           "#FF97FF",
           "#FECB52"
          ],
          "font": {
           "color": "#2a3f5f"
          },
          "geo": {
           "bgcolor": "white",
           "lakecolor": "white",
           "landcolor": "white",
           "showlakes": true,
           "showland": true,
           "subunitcolor": "#C8D4E3"
          },
          "hoverlabel": {
           "align": "left"
          },
          "hovermode": "closest",
          "mapbox": {
           "style": "light"
          },
          "paper_bgcolor": "white",
          "plot_bgcolor": "white",
          "polar": {
           "angularaxis": {
            "gridcolor": "#EBF0F8",
            "linecolor": "#EBF0F8",
            "ticks": ""
           },
           "bgcolor": "white",
           "radialaxis": {
            "gridcolor": "#EBF0F8",
            "linecolor": "#EBF0F8",
            "ticks": ""
           }
          },
          "scene": {
           "xaxis": {
            "backgroundcolor": "white",
            "gridcolor": "#DFE8F3",
            "gridwidth": 2,
            "linecolor": "#EBF0F8",
            "showbackground": true,
            "ticks": "",
            "zerolinecolor": "#EBF0F8"
           },
           "yaxis": {
            "backgroundcolor": "white",
            "gridcolor": "#DFE8F3",
            "gridwidth": 2,
            "linecolor": "#EBF0F8",
            "showbackground": true,
            "ticks": "",
            "zerolinecolor": "#EBF0F8"
           },
           "zaxis": {
            "backgroundcolor": "white",
            "gridcolor": "#DFE8F3",
            "gridwidth": 2,
            "linecolor": "#EBF0F8",
            "showbackground": true,
            "ticks": "",
            "zerolinecolor": "#EBF0F8"
           }
          },
          "shapedefaults": {
           "line": {
            "color": "#2a3f5f"
           }
          },
          "ternary": {
           "aaxis": {
            "gridcolor": "#DFE8F3",
            "linecolor": "#A2B1C6",
            "ticks": ""
           },
           "baxis": {
            "gridcolor": "#DFE8F3",
            "linecolor": "#A2B1C6",
            "ticks": ""
           },
           "bgcolor": "white",
           "caxis": {
            "gridcolor": "#DFE8F3",
            "linecolor": "#A2B1C6",
            "ticks": ""
           }
          },
          "title": {
           "x": 0.05
          },
          "xaxis": {
           "automargin": true,
           "gridcolor": "#EBF0F8",
           "linecolor": "#EBF0F8",
           "ticks": "",
           "title": {
            "standoff": 15
           },
           "zerolinecolor": "#EBF0F8",
           "zerolinewidth": 2
          },
          "yaxis": {
           "automargin": true,
           "gridcolor": "#EBF0F8",
           "linecolor": "#EBF0F8",
           "ticks": "",
           "title": {
            "standoff": 15
           },
           "zerolinecolor": "#EBF0F8",
           "zerolinewidth": 2
          }
         }
        },
        "title": {
         "text": "Sample of Random Portfolios"
        },
        "width": 850,
        "xaxis": {
         "title": {
          "text": "Annualised Risk (Volatility)"
         }
        },
        "yaxis": {
         "title": {
          "text": "Annualised Return"
         }
        }
       }
      },
      "text/html": [
       "<div>                            <div id=\"9b701ddb-6c6a-401e-b33d-735fffcdf838\" class=\"plotly-graph-div\" style=\"height:500px; width:850px;\"></div>            <script type=\"text/javascript\">                require([\"plotly\"], function(Plotly) {                    window.PLOTLYENV=window.PLOTLYENV || {};                                    if (document.getElementById(\"9b701ddb-6c6a-401e-b33d-735fffcdf838\")) {                    Plotly.newPlot(                        \"9b701ddb-6c6a-401e-b33d-735fffcdf838\",                        [{\"marker\":{\"color\":[0.023739280594304957,0.012569601906696521,0.022559778183522464,0.030198329586362812,0.02531513562787815,0.03063723720340184,0.026580995316220095,0.015617311013605589,0.026659917071125448,0.028643763925257183,0.03893160718100885,0.03354660103356347,0.033434966130202914,0.02654900814702186,0.035847635034547444,0.03542893784100018,0.017186282919715495,0.03947340197480768,0.0432619302499796,0.03486460650268661,0.01911321681348487,0.02182394747641442,0.036644731507377175,0.025933744052867157,0.03600803264395774,0.04017264787401312,0.038189140355132344,0.03378874305932193,0.04224841404156987,0.04354396360759409,0.03819776712640351,0.03975011277252254,0.03962622258937848,0.0334638831515908,0.03796118817382895,0.0336017328991052,0.02682152505844086,0.03792405070798641,0.0401527523101018,0.038213223126414,0.03673941243874964,0.026741108829693595,0.03449642616557994,0.03422763680377545,0.02773621585127375,0.0385671811646385,0.03948214693582895,0.044275989933985634,0.04013651967151334,0.03669236639959207,0.04024842601776009,0.040231844861182184,0.03971878963861428,0.03831001775678112,0.043043307996424536,0.02440279728346136,0.033745552338519544,0.027146025475032542,0.040353280593715395],\"colorbar\":{\"title\":{\"text\":\"Sharpe<br>Ratio\"}},\"colorscale\":[[0.0,\"rgb(103,0,31)\"],[0.1,\"rgb(178,24,43)\"],[0.2,\"rgb(214,96,77)\"],[0.3,\"rgb(244,165,130)\"],[0.4,\"rgb(253,219,199)\"],[0.5,\"rgb(247,247,247)\"],[0.6,\"rgb(209,229,240)\"],[0.7,\"rgb(146,197,222)\"],[0.8,\"rgb(67,147,195)\"],[0.9,\"rgb(33,102,172)\"],[1.0,\"rgb(5,48,97)\"]],\"line\":{\"width\":1},\"showscale\":true,\"size\":7},\"mode\":\"markers\",\"text\":[\"['TEVA' 'F' 'QQQ' 'ABEV' 'GOOG' 'AAPL']<br>[0.17 0.03 0.19 0.2  0.19 0.22]\",\"['TEVA' 'GOOG' 'AAPL' 'F' 'QQQ' 'ABEV']<br>[0.14 0.06 0.23 0.33 0.15 0.1 ]\",\"['AAPL' 'ABEV' 'GOOG' 'TEVA' 'QQQ' 'F']<br>[0.2  0.06 0.13 0.14 0.24 0.24]\",\"['TEVA' 'ABEV' 'GOOG' 'QQQ' 'F' 'AAPL']<br>[0.28 0.03 0.22 0.08 0.08 0.32]\",\"['ABEV' 'GOOG' 'QQQ' 'TEVA' 'F' 'AAPL']<br>[0.09 0.17 0.23 0.19 0.13 0.19]\",\"['F' 'QQQ' 'TEVA' 'GOOG' 'AAPL' 'ABEV']<br>[0.06 0.13 0.26 0.32 0.2  0.03]\",\"['ABEV' 'AAPL' 'GOOG' 'TEVA' 'QQQ' 'F']<br>[0.09 0.16 0.34 0.23 0.1  0.07]\",\"['QQQ' 'F' 'GOOG' 'ABEV' 'AAPL' 'TEVA']<br>[0.19 0.23 0.1  0.11 0.17 0.21]\",\"['GOOG' 'F' 'TEVA' 'ABEV' 'AAPL' 'QQQ']<br>[0.2  0.13 0.25 0.04 0.22 0.17]\",\"['AAPL' 'ABEV' 'TEVA' 'GOOG' 'QQQ' 'F']<br>[0.19 0.03 0.22 0.18 0.25 0.13]\",\"['GOOG' 'QQQ' 'ABEV' 'TEVA' 'AAPL' 'F']<br>[0.29 0.3  0.04 0.15 0.22 0.  ]\",\"['AAPL' 'ABEV' 'QQQ' 'GOOG' 'F' 'TEVA']<br>[0.18 0.09 0.45 0.11 0.04 0.13]\",\"['ABEV' 'GOOG' 'AAPL' 'F' 'QQQ' 'TEVA']<br>[0.03 0.23 0.26 0.14 0.24 0.1 ]\",\"['QQQ' 'F' 'GOOG' 'AAPL' 'TEVA' 'ABEV']<br>[0.42 0.16 0.01 0.21 0.15 0.06]\",\"['QQQ' 'ABEV' 'GOOG' 'TEVA' 'F' 'AAPL']<br>[0.26 0.04 0.25 0.09 0.11 0.26]\",\"['TEVA' 'F' 'GOOG' 'QQQ' 'AAPL' 'ABEV']<br>[0.18 0.03 0.25 0.29 0.21 0.05]\",\"['TEVA' 'GOOG' 'QQQ' 'AAPL' 'F' 'ABEV']<br>[0.13 0.09 0.35 0.09 0.15 0.18]\",\"['AAPL' 'F' 'QQQ' 'GOOG' 'TEVA' 'ABEV']<br>[0.27 0.01 0.16 0.45 0.03 0.08]\",\"['TEVA' 'ABEV' 'AAPL' 'GOOG' 'F' 'QQQ']<br>[0.01 0.01 0.3  0.25 0.05 0.38]\",\"['AAPL' 'QQQ' 'F' 'TEVA' 'GOOG' 'ABEV']<br>[0.14 0.42 0.08 0.04 0.24 0.08]\",\"['TEVA' 'GOOG' 'AAPL' 'QQQ' 'ABEV' 'F']<br>[0.08 0.09 0.11 0.38 0.16 0.18]\",\"['TEVA' 'QQQ' 'ABEV' 'F' 'GOOG' 'AAPL']<br>[0.12 0.44 0.08 0.2  0.12 0.04]\",\"['AAPL' 'ABEV' 'TEVA' 'GOOG' 'QQQ' 'F']<br>[0.32 0.1  0.04 0.14 0.36 0.05]\",\"['TEVA' 'GOOG' 'QQQ' 'AAPL' 'ABEV' 'F']<br>[0.09 0.12 0.43 0.11 0.13 0.11]\",\"['TEVA' 'ABEV' 'QQQ' 'GOOG' 'AAPL' 'F']<br>[0.19 0.05 0.34 0.18 0.22 0.01]\",\"['AAPL' 'QQQ' 'ABEV' 'GOOG' 'TEVA' 'F']<br>[0.32 0.2  0.01 0.3  0.13 0.04]\",\"['ABEV' 'QQQ' 'TEVA' 'GOOG' 'AAPL' 'F']<br>[0.01 0.3  0.14 0.29 0.21 0.06]\",\"['GOOG' 'AAPL' 'QQQ' 'ABEV' 'F' 'TEVA']<br>[0.15 0.11 0.51 0.11 0.02 0.09]\",\"['F' 'TEVA' 'ABEV' 'GOOG' 'QQQ' 'AAPL']<br>[0.04 0.   0.03 0.39 0.27 0.27]\",\"['AAPL' 'GOOG' 'ABEV' 'F' 'TEVA' 'QQQ']<br>[0.31 0.4  0.01 0.03 0.02 0.23]\",\"['GOOG' 'F' 'ABEV' 'TEVA' 'AAPL' 'QQQ']<br>[0.17 0.04 0.02 0.15 0.27 0.36]\",\"['ABEV' 'QQQ' 'AAPL' 'GOOG' 'F' 'TEVA']<br>[0.03 0.24 0.28 0.3  0.01 0.15]\",\"['TEVA' 'GOOG' 'QQQ' 'ABEV' 'F' 'AAPL']<br>[0.06 0.29 0.37 0.05 0.03 0.2 ]\",\"['GOOG' 'ABEV' 'F' 'TEVA' 'QQQ' 'AAPL']<br>[0.19 0.03 0.04 0.22 0.37 0.15]\",\"['F' 'AAPL' 'QQQ' 'GOOG' 'TEVA' 'ABEV']<br>[0.03 0.2  0.31 0.27 0.16 0.02]\",\"['AAPL' 'TEVA' 'F' 'GOOG' 'QQQ' 'ABEV']<br>[0.15 0.14 0.02 0.23 0.36 0.09]\",\"['AAPL' 'TEVA' 'F' 'QQQ' 'ABEV' 'GOOG']<br>[0.21 0.17 0.14 0.4  0.06 0.02]\",\"['ABEV' 'QQQ' 'AAPL' 'F' 'GOOG' 'TEVA']<br>[0.08 0.35 0.21 0.02 0.28 0.07]\",\"['QQQ' 'ABEV' 'GOOG' 'F' 'TEVA' 'AAPL']<br>[0.36 0.04 0.18 0.06 0.02 0.33]\",\"['F' 'AAPL' 'ABEV' 'QQQ' 'TEVA' 'GOOG']<br>[0.03 0.31 0.06 0.31 0.09 0.19]\",\"['AAPL' 'TEVA' 'ABEV' 'QQQ' 'F' 'GOOG']<br>[0.27 0.06 0.09 0.43 0.04 0.11]\",\"['ABEV' 'GOOG' 'QQQ' 'TEVA' 'AAPL' 'F']<br>[0.04 0.09 0.37 0.14 0.17 0.19]\",\"['GOOG' 'QQQ' 'TEVA' 'ABEV' 'AAPL' 'F']<br>[0.2  0.35 0.14 0.09 0.2  0.02]\",\"['TEVA' 'AAPL' 'QQQ' 'GOOG' 'ABEV' 'F']<br>[0.12 0.19 0.34 0.21 0.06 0.08]\",\"['QQQ' 'F' 'TEVA' 'AAPL' 'ABEV' 'GOOG']<br>[0.48 0.17 0.12 0.16 0.05 0.04]\",\"['F' 'QQQ' 'ABEV' 'GOOG' 'TEVA' 'AAPL']<br>[0.   0.33 0.03 0.17 0.18 0.28]\",\"['ABEV' 'QQQ' 'F' 'TEVA' 'AAPL' 'GOOG']<br>[0.04 0.31 0.03 0.1  0.25 0.27]\",\"['AAPL' 'TEVA' 'QQQ' 'F' 'GOOG' 'ABEV']<br>[0.34 0.06 0.26 0.02 0.32 0.  ]\",\"['TEVA' 'ABEV' 'AAPL' 'GOOG' 'F' 'QQQ']<br>[0.06 0.03 0.22 0.2  0.05 0.44]\",\"['GOOG' 'AAPL' 'F' 'QQQ' 'ABEV' 'TEVA']<br>[0.16 0.16 0.04 0.45 0.02 0.17]\",\"['AAPL' 'F' 'QQQ' 'GOOG' 'ABEV' 'TEVA']<br>[0.23 0.03 0.46 0.2  0.07 0.01]\",\"['F' 'AAPL' 'TEVA' 'ABEV' 'QQQ' 'GOOG']<br>[0.07 0.31 0.09 0.01 0.22 0.31]\",\"['TEVA' 'AAPL' 'QQQ' 'GOOG' 'ABEV' 'F']<br>[0.15 0.3  0.24 0.27 0.04 0.  ]\",\"['ABEV' 'QQQ' 'F' 'GOOG' 'AAPL' 'TEVA']<br>[0.   0.44 0.08 0.09 0.27 0.12]\",\"['F' 'GOOG' 'ABEV' 'TEVA' 'AAPL' 'QQQ']<br>[0.04 0.31 0.01 0.04 0.31 0.29]\",\"['QQQ' 'AAPL' 'ABEV' 'GOOG' 'F' 'TEVA']<br>[0.46 0.03 0.08 0.14 0.15 0.14]\",\"['GOOG' 'TEVA' 'F' 'QQQ' 'ABEV' 'AAPL']<br>[0.12 0.18 0.07 0.39 0.03 0.21]\",\"['AAPL' 'QQQ' 'ABEV' 'TEVA' 'F' 'GOOG']<br>[0.09 0.46 0.09 0.18 0.08 0.1 ]\",\"['F' 'QQQ' 'GOOG' 'ABEV' 'TEVA' 'AAPL']<br>[0.03 0.3  0.24 0.01 0.14 0.28]\"],\"x\":[0.01030844250292182,0.01028092516121051,0.010051784829088037,0.010725065532360502,0.010043500080467381,0.010676172774902487,0.010550868785776563,0.01003763110487733,0.010326452891494866,0.01017616526604647,0.010518808723116807,0.00995902142291837,0.010330235244363826,0.009938116237427169,0.010415903714728825,0.010333723497093805,0.009922260526067567,0.011323994699547077,0.01083080380275312,0.010250640157887687,0.009919250627964553,0.009855748382448837,0.010495481907728395,0.009886830263238439,0.010263418362153727,0.010779641046402954,0.010481010954488555,0.009980618484119793,0.01119579612856801,0.011316557717524562,0.01030088799050041,0.010673559718706956,0.010511431377789137,0.01019219710235604,0.010424154010354974,0.010171996822396338,0.009953391021690907,0.010445304826996458,0.010668633416772244,0.010439373451714752,0.01027416806838343,0.00994325484052673,0.010158416299640793,0.010136323906484572,0.009860503930868533,0.010412369283799256,0.010500100055361884,0.011080230057759587,0.01032405687064551,0.010090810816853743,0.010489733731960315,0.010791404239557701,0.010641253545815108,0.010257008021406966,0.010969023894540955,0.009849857589033369,0.010062073311696632,0.00982084906867482,0.010557460712094263],\"y\":[0.0002447150090671204,0.00012922713650895587,0.0002267660360927224,0.0003238790637815622,0.0002542525667156369,0.00032708843772918836,0.00028045259377677963,0.00015676080680471078,0.0002753023777261367,0.00029148367554503705,0.0004095141292205528,0.00033409131835935413,0.000345391065512333,0.0002638471289535041,0.00037338551492058594,0.00036611284744461945,0.00017052677660412232,0.00044699659473581324,0.0004685614786659192,0.00035738453550539153,0.00018958878787958243,0.00021509133503931982,0.0003846041165492418,0.0002564025255409669,0.00036956550342302666,0.0004330467239654042,0.000400260798404643,0.00033723255353304283,0.0004730046303647463,0.0004927677774151276,0.00039347092065630134,0.0004242752025028555,0.0004165283195092496,0.00034107049289122486,0.00039571327194005886,0.0003417967202767086,0.0002669651267047429,0.00039612826991938896,0.00042837499507093096,0.00039892210701033854,0.00037746689812937054,0.00026589365981190293,0.0003504290578397824,0.0003469424131965803,0.00027349306542890294,0.00040157573252140317,0.0004145664932267036,0.0004905881545036085,0.00041437171167848597,0.0003702557277609645,0.0004221952720568072,0.0004341581012001891,0.00042265771107738854,0.00039294615943154726,0.00047214307391286645,0.00024036407801614475,0.00033955022157387935,0.0002665970190046963,0.0004260281744722661],\"type\":\"scatter\"}],                        {\"template\":{\"data\":{\"barpolar\":[{\"marker\":{\"line\":{\"color\":\"white\",\"width\":0.5},\"pattern\":{\"fillmode\":\"overlay\",\"size\":10,\"solidity\":0.2}},\"type\":\"barpolar\"}],\"bar\":[{\"error_x\":{\"color\":\"#2a3f5f\"},\"error_y\":{\"color\":\"#2a3f5f\"},\"marker\":{\"line\":{\"color\":\"white\",\"width\":0.5},\"pattern\":{\"fillmode\":\"overlay\",\"size\":10,\"solidity\":0.2}},\"type\":\"bar\"}],\"carpet\":[{\"aaxis\":{\"endlinecolor\":\"#2a3f5f\",\"gridcolor\":\"#C8D4E3\",\"linecolor\":\"#C8D4E3\",\"minorgridcolor\":\"#C8D4E3\",\"startlinecolor\":\"#2a3f5f\"},\"baxis\":{\"endlinecolor\":\"#2a3f5f\",\"gridcolor\":\"#C8D4E3\",\"linecolor\":\"#C8D4E3\",\"minorgridcolor\":\"#C8D4E3\",\"startlinecolor\":\"#2a3f5f\"},\"type\":\"carpet\"}],\"choropleth\":[{\"colorbar\":{\"outlinewidth\":0,\"ticks\":\"\"},\"type\":\"choropleth\"}],\"contourcarpet\":[{\"colorbar\":{\"outlinewidth\":0,\"ticks\":\"\"},\"type\":\"contourcarpet\"}],\"contour\":[{\"colorbar\":{\"outlinewidth\":0,\"ticks\":\"\"},\"colorscale\":[[0.0,\"#0d0887\"],[0.1111111111111111,\"#46039f\"],[0.2222222222222222,\"#7201a8\"],[0.3333333333333333,\"#9c179e\"],[0.4444444444444444,\"#bd3786\"],[0.5555555555555556,\"#d8576b\"],[0.6666666666666666,\"#ed7953\"],[0.7777777777777778,\"#fb9f3a\"],[0.8888888888888888,\"#fdca26\"],[1.0,\"#f0f921\"]],\"type\":\"contour\"}],\"heatmapgl\":[{\"colorbar\":{\"outlinewidth\":0,\"ticks\":\"\"},\"colorscale\":[[0.0,\"#0d0887\"],[0.1111111111111111,\"#46039f\"],[0.2222222222222222,\"#7201a8\"],[0.3333333333333333,\"#9c179e\"],[0.4444444444444444,\"#bd3786\"],[0.5555555555555556,\"#d8576b\"],[0.6666666666666666,\"#ed7953\"],[0.7777777777777778,\"#fb9f3a\"],[0.8888888888888888,\"#fdca26\"],[1.0,\"#f0f921\"]],\"type\":\"heatmapgl\"}],\"heatmap\":[{\"colorbar\":{\"outlinewidth\":0,\"ticks\":\"\"},\"colorscale\":[[0.0,\"#0d0887\"],[0.1111111111111111,\"#46039f\"],[0.2222222222222222,\"#7201a8\"],[0.3333333333333333,\"#9c179e\"],[0.4444444444444444,\"#bd3786\"],[0.5555555555555556,\"#d8576b\"],[0.6666666666666666,\"#ed7953\"],[0.7777777777777778,\"#fb9f3a\"],[0.8888888888888888,\"#fdca26\"],[1.0,\"#f0f921\"]],\"type\":\"heatmap\"}],\"histogram2dcontour\":[{\"colorbar\":{\"outlinewidth\":0,\"ticks\":\"\"},\"colorscale\":[[0.0,\"#0d0887\"],[0.1111111111111111,\"#46039f\"],[0.2222222222222222,\"#7201a8\"],[0.3333333333333333,\"#9c179e\"],[0.4444444444444444,\"#bd3786\"],[0.5555555555555556,\"#d8576b\"],[0.6666666666666666,\"#ed7953\"],[0.7777777777777778,\"#fb9f3a\"],[0.8888888888888888,\"#fdca26\"],[1.0,\"#f0f921\"]],\"type\":\"histogram2dcontour\"}],\"histogram2d\":[{\"colorbar\":{\"outlinewidth\":0,\"ticks\":\"\"},\"colorscale\":[[0.0,\"#0d0887\"],[0.1111111111111111,\"#46039f\"],[0.2222222222222222,\"#7201a8\"],[0.3333333333333333,\"#9c179e\"],[0.4444444444444444,\"#bd3786\"],[0.5555555555555556,\"#d8576b\"],[0.6666666666666666,\"#ed7953\"],[0.7777777777777778,\"#fb9f3a\"],[0.8888888888888888,\"#fdca26\"],[1.0,\"#f0f921\"]],\"type\":\"histogram2d\"}],\"histogram\":[{\"marker\":{\"pattern\":{\"fillmode\":\"overlay\",\"size\":10,\"solidity\":0.2}},\"type\":\"histogram\"}],\"mesh3d\":[{\"colorbar\":{\"outlinewidth\":0,\"ticks\":\"\"},\"type\":\"mesh3d\"}],\"parcoords\":[{\"line\":{\"colorbar\":{\"outlinewidth\":0,\"ticks\":\"\"}},\"type\":\"parcoords\"}],\"pie\":[{\"automargin\":true,\"type\":\"pie\"}],\"scatter3d\":[{\"line\":{\"colorbar\":{\"outlinewidth\":0,\"ticks\":\"\"}},\"marker\":{\"colorbar\":{\"outlinewidth\":0,\"ticks\":\"\"}},\"type\":\"scatter3d\"}],\"scattercarpet\":[{\"marker\":{\"colorbar\":{\"outlinewidth\":0,\"ticks\":\"\"}},\"type\":\"scattercarpet\"}],\"scattergeo\":[{\"marker\":{\"colorbar\":{\"outlinewidth\":0,\"ticks\":\"\"}},\"type\":\"scattergeo\"}],\"scattergl\":[{\"marker\":{\"colorbar\":{\"outlinewidth\":0,\"ticks\":\"\"}},\"type\":\"scattergl\"}],\"scattermapbox\":[{\"marker\":{\"colorbar\":{\"outlinewidth\":0,\"ticks\":\"\"}},\"type\":\"scattermapbox\"}],\"scatterpolargl\":[{\"marker\":{\"colorbar\":{\"outlinewidth\":0,\"ticks\":\"\"}},\"type\":\"scatterpolargl\"}],\"scatterpolar\":[{\"marker\":{\"colorbar\":{\"outlinewidth\":0,\"ticks\":\"\"}},\"type\":\"scatterpolar\"}],\"scatter\":[{\"fillpattern\":{\"fillmode\":\"overlay\",\"size\":10,\"solidity\":0.2},\"type\":\"scatter\"}],\"scatterternary\":[{\"marker\":{\"colorbar\":{\"outlinewidth\":0,\"ticks\":\"\"}},\"type\":\"scatterternary\"}],\"surface\":[{\"colorbar\":{\"outlinewidth\":0,\"ticks\":\"\"},\"colorscale\":[[0.0,\"#0d0887\"],[0.1111111111111111,\"#46039f\"],[0.2222222222222222,\"#7201a8\"],[0.3333333333333333,\"#9c179e\"],[0.4444444444444444,\"#bd3786\"],[0.5555555555555556,\"#d8576b\"],[0.6666666666666666,\"#ed7953\"],[0.7777777777777778,\"#fb9f3a\"],[0.8888888888888888,\"#fdca26\"],[1.0,\"#f0f921\"]],\"type\":\"surface\"}],\"table\":[{\"cells\":{\"fill\":{\"color\":\"#EBF0F8\"},\"line\":{\"color\":\"white\"}},\"header\":{\"fill\":{\"color\":\"#C8D4E3\"},\"line\":{\"color\":\"white\"}},\"type\":\"table\"}]},\"layout\":{\"annotationdefaults\":{\"arrowcolor\":\"#2a3f5f\",\"arrowhead\":0,\"arrowwidth\":1},\"autotypenumbers\":\"strict\",\"coloraxis\":{\"colorbar\":{\"outlinewidth\":0,\"ticks\":\"\"}},\"colorscale\":{\"diverging\":[[0,\"#8e0152\"],[0.1,\"#c51b7d\"],[0.2,\"#de77ae\"],[0.3,\"#f1b6da\"],[0.4,\"#fde0ef\"],[0.5,\"#f7f7f7\"],[0.6,\"#e6f5d0\"],[0.7,\"#b8e186\"],[0.8,\"#7fbc41\"],[0.9,\"#4d9221\"],[1,\"#276419\"]],\"sequential\":[[0.0,\"#0d0887\"],[0.1111111111111111,\"#46039f\"],[0.2222222222222222,\"#7201a8\"],[0.3333333333333333,\"#9c179e\"],[0.4444444444444444,\"#bd3786\"],[0.5555555555555556,\"#d8576b\"],[0.6666666666666666,\"#ed7953\"],[0.7777777777777778,\"#fb9f3a\"],[0.8888888888888888,\"#fdca26\"],[1.0,\"#f0f921\"]],\"sequentialminus\":[[0.0,\"#0d0887\"],[0.1111111111111111,\"#46039f\"],[0.2222222222222222,\"#7201a8\"],[0.3333333333333333,\"#9c179e\"],[0.4444444444444444,\"#bd3786\"],[0.5555555555555556,\"#d8576b\"],[0.6666666666666666,\"#ed7953\"],[0.7777777777777778,\"#fb9f3a\"],[0.8888888888888888,\"#fdca26\"],[1.0,\"#f0f921\"]]},\"colorway\":[\"#636efa\",\"#EF553B\",\"#00cc96\",\"#ab63fa\",\"#FFA15A\",\"#19d3f3\",\"#FF6692\",\"#B6E880\",\"#FF97FF\",\"#FECB52\"],\"font\":{\"color\":\"#2a3f5f\"},\"geo\":{\"bgcolor\":\"white\",\"lakecolor\":\"white\",\"landcolor\":\"white\",\"showlakes\":true,\"showland\":true,\"subunitcolor\":\"#C8D4E3\"},\"hoverlabel\":{\"align\":\"left\"},\"hovermode\":\"closest\",\"mapbox\":{\"style\":\"light\"},\"paper_bgcolor\":\"white\",\"plot_bgcolor\":\"white\",\"polar\":{\"angularaxis\":{\"gridcolor\":\"#EBF0F8\",\"linecolor\":\"#EBF0F8\",\"ticks\":\"\"},\"bgcolor\":\"white\",\"radialaxis\":{\"gridcolor\":\"#EBF0F8\",\"linecolor\":\"#EBF0F8\",\"ticks\":\"\"}},\"scene\":{\"xaxis\":{\"backgroundcolor\":\"white\",\"gridcolor\":\"#DFE8F3\",\"gridwidth\":2,\"linecolor\":\"#EBF0F8\",\"showbackground\":true,\"ticks\":\"\",\"zerolinecolor\":\"#EBF0F8\"},\"yaxis\":{\"backgroundcolor\":\"white\",\"gridcolor\":\"#DFE8F3\",\"gridwidth\":2,\"linecolor\":\"#EBF0F8\",\"showbackground\":true,\"ticks\":\"\",\"zerolinecolor\":\"#EBF0F8\"},\"zaxis\":{\"backgroundcolor\":\"white\",\"gridcolor\":\"#DFE8F3\",\"gridwidth\":2,\"linecolor\":\"#EBF0F8\",\"showbackground\":true,\"ticks\":\"\",\"zerolinecolor\":\"#EBF0F8\"}},\"shapedefaults\":{\"line\":{\"color\":\"#2a3f5f\"}},\"ternary\":{\"aaxis\":{\"gridcolor\":\"#DFE8F3\",\"linecolor\":\"#A2B1C6\",\"ticks\":\"\"},\"baxis\":{\"gridcolor\":\"#DFE8F3\",\"linecolor\":\"#A2B1C6\",\"ticks\":\"\"},\"bgcolor\":\"white\",\"caxis\":{\"gridcolor\":\"#DFE8F3\",\"linecolor\":\"#A2B1C6\",\"ticks\":\"\"}},\"title\":{\"x\":0.05},\"xaxis\":{\"automargin\":true,\"gridcolor\":\"#EBF0F8\",\"linecolor\":\"#EBF0F8\",\"ticks\":\"\",\"title\":{\"standoff\":15},\"zerolinecolor\":\"#EBF0F8\",\"zerolinewidth\":2},\"yaxis\":{\"automargin\":true,\"gridcolor\":\"#EBF0F8\",\"linecolor\":\"#EBF0F8\",\"ticks\":\"\",\"title\":{\"standoff\":15},\"zerolinecolor\":\"#EBF0F8\",\"zerolinewidth\":2}}},\"xaxis\":{\"title\":{\"text\":\"Annualised Risk (Volatility)\"}},\"yaxis\":{\"title\":{\"text\":\"Annualised Return\"}},\"title\":{\"text\":\"Sample of Random Portfolios\"},\"width\":850,\"height\":500,\"coloraxis\":{\"colorbar\":{\"title\":{\"text\":\"Sharpe Ratio\"}}}},                        {\"responsive\": true}                    ).then(function(){\n",
       "                            \n",
       "var gd = document.getElementById('9b701ddb-6c6a-401e-b33d-735fffcdf838');\n",
       "var x = new MutationObserver(function (mutations, observer) {{\n",
       "        var display = window.getComputedStyle(gd).display;\n",
       "        if (!display || display === 'none') {{\n",
       "            console.log([gd, 'removed!']);\n",
       "            Plotly.purge(gd);\n",
       "            observer.disconnect();\n",
       "        }}\n",
       "}});\n",
       "\n",
       "// Listen for the removal of the full notebook cells\n",
       "var notebookContainer = gd.closest('#notebook-container');\n",
       "if (notebookContainer) {{\n",
       "    x.observe(notebookContainer, {childList: true});\n",
       "}}\n",
       "\n",
       "// Listen for the clearing of the current output cell\n",
       "var outputEl = gd.closest('.output');\n",
       "if (outputEl) {{\n",
       "    x.observe(outputEl, {childList: true});\n",
       "}}\n",
       "\n",
       "                        })                };                });            </script>        </div>"
      ]
     },
     "metadata": {},
     "output_type": "display_data"
    }
   ],
   "source": [
    "#-- Plot the risk vs. return of randomly generated portfolios\n",
    "#-- Convert the list from before into an array for easy plotting\n",
    "mean_variance_pairs = np.array(mean_variance_pairs)\n",
    "\n",
    "risk_free_rate=0 #-- Include risk free rate here\n",
    "\n",
    "fig = go.Figure()\n",
    "fig.add_trace(go.Scatter(x=mean_variance_pairs[:,1]**0.5, y=mean_variance_pairs[:,0], \n",
    "                      marker=dict(color=(mean_variance_pairs[:,0]-risk_free_rate)/(mean_variance_pairs[:,1]**0.5), \n",
    "                                  showscale=True, \n",
    "                                  size=7,\n",
    "                                  line=dict(width=1),\n",
    "                                  colorscale=\"RdBu\",\n",
    "                                  colorbar=dict(title=\"Sharpe<br>Ratio\")\n",
    "                                 ), \n",
    "                      mode='markers',\n",
    "                      text=[str(np.array(tickers_list[i])) + \"<br>\" + str(np.array(weights_list[i]).round(2)) for i in range(len(tickers_list))]))\n",
    "fig.update_layout(template='plotly_white',\n",
    "                  xaxis=dict(title='Annualised Risk (Volatility)'),\n",
    "                  yaxis=dict(title='Annualised Return'),\n",
    "                  title='Sample of Random Portfolios',\n",
    "                  width=850,\n",
    "                  height=500)\n",
    "fig.update_layout(coloraxis_colorbar=dict(title=\"Sharpe Ratio\"))\n"
   ]
  },
  {
   "cell_type": "code",
   "execution_count": null,
   "id": "7a4756c1",
   "metadata": {},
   "outputs": [],
   "source": []
  }
 ],
 "metadata": {
  "kernelspec": {
   "display_name": "Python 3 (ipykernel)",
   "language": "python",
   "name": "python3"
  },
  "language_info": {
   "codemirror_mode": {
    "name": "ipython",
    "version": 3
   },
   "file_extension": ".py",
   "mimetype": "text/x-python",
   "name": "python",
   "nbconvert_exporter": "python",
   "pygments_lexer": "ipython3",
   "version": "3.7.11"
  }
 },
 "nbformat": 4,
 "nbformat_minor": 5
}
